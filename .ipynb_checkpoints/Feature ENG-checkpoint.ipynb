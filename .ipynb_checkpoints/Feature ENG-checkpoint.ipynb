{
 "cells": [
  {
   "cell_type": "markdown",
   "id": "144dba80",
   "metadata": {},
   "source": [
    "# INSURANCE CLAIM PROBABILITY BASED ON  POLICY FEATURES AND SAFETY RATINGS"
   ]
  },
  {
   "cell_type": "markdown",
   "id": "3860255d",
   "metadata": {},
   "source": [
    "## Problem Statement\n",
    "Insurance companies face the challenge of accurately predicting the likelihood of claims on car insurance policies. With a variety of factors influencing claim frequency and severity, it is difficult to assess risk and determine appropriate premiums for policyholders. The problem arises from the complexity and variety of data involved, including demographic details, vehicle specifications, and past claim histories. Inaccurate predictions can lead to suboptimal premium pricing, financial loss, and inefficient claim management.\n",
    "\n",
    "The goal of this project is to develop a predictive model that analyzes this complex dataset to predict whether a car insurance claim will occur within a six-month period. The expected output is a model capable of accurately classifying policies into two categories: those likely to file a claim and those unlikely to do so. The model will provide actionable insights into the factors that contribute to the likelihood of claims."
   ]
  },
  {
   "cell_type": "code",
   "execution_count": 1,
   "id": "d7978c72",
   "metadata": {
    "scrolled": false
   },
   "outputs": [],
   "source": [
    "# Importing required packages \n",
    "import numpy as np\n",
    "import pandas as pd\n",
    "import matplotlib.pyplot as plt\n",
    "import seaborn as sns\n",
    "import warnings\n",
    "warnings.filterwarnings('ignore')"
   ]
  },
  {
   "cell_type": "markdown",
   "id": "f3c14524",
   "metadata": {},
   "source": [
    "## Data Overview"
   ]
  },
  {
   "cell_type": "code",
   "execution_count": 2,
   "id": "8cf40a02",
   "metadata": {
    "scrolled": false
   },
   "outputs": [
    {
     "data": {
      "text/plain": [
       "(58592, 44)"
      ]
     },
     "execution_count": 2,
     "metadata": {},
     "output_type": "execute_result"
    }
   ],
   "source": [
    "# importing data using pandas\n",
    "data = pd.read_csv(r'data/Data.csv')\n",
    "data.shape"
   ]
  },
  {
   "cell_type": "markdown",
   "id": "a1ccaaa6",
   "metadata": {},
   "source": [
    "### a. Feature enginnering"
   ]
  },
  {
   "cell_type": "code",
   "execution_count": 8,
   "id": "fb8575db",
   "metadata": {},
   "outputs": [],
   "source": [
    "# outliers"
   ]
  },
  {
   "cell_type": "code",
   "execution_count": 9,
   "id": "45509573",
   "metadata": {},
   "outputs": [
    {
     "data": {
      "text/plain": [
       "<Axes: xlabel='age_of_car'>"
      ]
     },
     "execution_count": 9,
     "metadata": {},
     "output_type": "execute_result"
    },
    {
     "data": {
      "image/png": "[encoded data removed]",
      "text/plain": [
       "<Figure size 640x480 with 1 Axes>"
      ]
     },
     "metadata": {},
     "output_type": "display_data"
    }
   ],
   "source": [
    "# Removing outliers from age_of_car column which are above 99th percentile\n",
    "extreme_age_indices = data['age_of_car'] > data['age_of_car'].quantile(0.99)\n",
    "sns.boxplot(x='age_of_car', data=data.loc[~extreme_age_indices])"
   ]
  },
  {
   "cell_type": "code",
   "execution_count": 10,
   "id": "0650c3e3",
   "metadata": {},
   "outputs": [
    {
     "data": {
      "text/plain": [
       "<Axes: xlabel='age_of_policyholder'>"
      ]
     },
     "execution_count": 10,
     "metadata": {},
     "output_type": "execute_result"
    },
    {
     "data": {
      "image/png": "[encoded data removed]",
      "text/plain": [
       "<Figure size 640x480 with 1 Axes>"
      ]
     },
     "metadata": {},
     "output_type": "display_data"
    }
   ],
   "source": [
    "# Removing outliers from age_of_car column which are above 99th percentile\n",
    "extreme_age_of_policyholder_indices = data['age_of_policyholder'] > data['age_of_policyholder'].quantile(0.99)\n",
    "sns.boxplot(x='age_of_policyholder', data=data.loc[~extreme_age_of_policyholder_indices])"
   ]
  },
  {
   "cell_type": "code",
   "execution_count": 11,
   "id": "39c08682",
   "metadata": {},
   "outputs": [],
   "source": [
    "data=data.loc[~extreme_age_of_policyholder_indices]\n",
    "data = data.loc[~extreme_age_indices]"
   ]
  },
  {
   "cell_type": "code",
   "execution_count": 3,
   "id": "c8a4cfbf",
   "metadata": {},
   "outputs": [],
   "source": [
    "data = data.drop(['policy_id'],axis =1)"
   ]
  },
  {
   "cell_type": "code",
   "execution_count": 12,
   "id": "b84205c5",
   "metadata": {},
   "outputs": [],
   "source": [
    "## converting columns into categorical that has less than 10 unique values\n",
    "\n",
    "for col in list(data.columns):\n",
    "    if len(data[col].unique()) < 10:\n",
    "        data[col] = data[col].astype('object')"
   ]
  },
  {
   "cell_type": "code",
   "execution_count": 5,
   "id": "4b519f44",
   "metadata": {},
   "outputs": [],
   "source": [
    "data['population_density'] = data['population_density'].astype('float64')"
   ]
  },
  {
   "cell_type": "code",
   "execution_count": 6,
   "id": "d1a0d786",
   "metadata": {},
   "outputs": [],
   "source": [
    "# length, width, height can be represented as one column that is volume\n",
    "data['volume'] = np.log(data['length'].astype('int64')*data['width']*data['height']*1e-6)\n",
    "data = data.drop(['length','width','height'],axis=1)"
   ]
  },
  {
   "cell_type": "code",
   "execution_count": 13,
   "id": "73ac7520",
   "metadata": {},
   "outputs": [
    {
     "name": "stdout",
     "output_type": "stream",
     "text": [
      "<class 'pandas.core.frame.DataFrame'>\n",
      "Index: 57550 entries, 0 to 58591\n",
      "Data columns (total 41 columns):\n",
      " #   Column                            Non-Null Count  Dtype  \n",
      "---  ------                            --------------  -----  \n",
      " 0   policy_tenure                     57550 non-null  float64\n",
      " 1   age_of_car                        57550 non-null  float64\n",
      " 2   age_of_policyholder               57550 non-null  float64\n",
      " 3   area_cluster                      57550 non-null  object \n",
      " 4   population_density                57550 non-null  float64\n",
      " 5   make                              57550 non-null  object \n",
      " 6   segment                           57550 non-null  object \n",
      " 7   model                             57550 non-null  object \n",
      " 8   fuel_type                         57550 non-null  object \n",
      " 9   max_torque                        57550 non-null  object \n",
      " 10  max_power                         57550 non-null  object \n",
      " 11  engine_type                       57550 non-null  object \n",
      " 12  airbags                           57550 non-null  object \n",
      " 13  is_esc                            57550 non-null  object \n",
      " 14  is_adjustable_steering            57550 non-null  object \n",
      " 15  is_tpms                           57550 non-null  object \n",
      " 16  is_parking_sensors                57550 non-null  object \n",
      " 17  is_parking_camera                 57550 non-null  object \n",
      " 18  rear_brakes_type                  57550 non-null  object \n",
      " 19  displacement                      57550 non-null  object \n",
      " 20  cylinder                          57550 non-null  object \n",
      " 21  transmission_type                 57550 non-null  object \n",
      " 22  gear_box                          57550 non-null  object \n",
      " 23  steering_type                     57550 non-null  object \n",
      " 24  turning_radius                    57550 non-null  object \n",
      " 25  gross_weight                      57550 non-null  int64  \n",
      " 26  is_front_fog_lights               57550 non-null  object \n",
      " 27  is_rear_window_wiper              57550 non-null  object \n",
      " 28  is_rear_window_washer             57550 non-null  object \n",
      " 29  is_rear_window_defogger           57550 non-null  object \n",
      " 30  is_brake_assist                   57550 non-null  object \n",
      " 31  is_power_door_locks               57550 non-null  object \n",
      " 32  is_central_locking                57550 non-null  object \n",
      " 33  is_power_steering                 57550 non-null  object \n",
      " 34  is_driver_seat_height_adjustable  57550 non-null  object \n",
      " 35  is_day_night_rear_view_mirror     57550 non-null  object \n",
      " 36  is_ecw                            57550 non-null  object \n",
      " 37  is_speed_alert                    57550 non-null  object \n",
      " 38  ncap_rating                       57550 non-null  object \n",
      " 39  is_claim                          57550 non-null  object \n",
      " 40  volume                            57550 non-null  float64\n",
      "dtypes: float64(5), int64(1), object(35)\n",
      "memory usage: 18.4+ MB\n"
     ]
    }
   ],
   "source": [
    "data.info()"
   ]
  },
  {
   "cell_type": "markdown",
   "id": "ed4cefce",
   "metadata": {},
   "source": [
    "## Multi-Collinearity of numerical features"
   ]
  },
  {
   "cell_type": "code",
   "execution_count": 14,
   "id": "aec8380d",
   "metadata": {
    "scrolled": false
   },
   "outputs": [
    {
     "name": "stdout",
     "output_type": "stream",
     "text": [
      "['area_cluster', 'make', 'segment', 'model', 'fuel_type', 'max_torque', 'max_power', 'engine_type', 'airbags', 'is_esc', 'is_adjustable_steering', 'is_tpms', 'is_parking_sensors', 'is_parking_camera', 'rear_brakes_type', 'displacement', 'cylinder', 'transmission_type', 'gear_box', 'steering_type', 'turning_radius', 'is_front_fog_lights', 'is_rear_window_wiper', 'is_rear_window_washer', 'is_rear_window_defogger', 'is_brake_assist', 'is_power_door_locks', 'is_central_locking', 'is_power_steering', 'is_driver_seat_height_adjustable', 'is_day_night_rear_view_mirror', 'is_ecw', 'is_speed_alert', 'ncap_rating', 'is_claim']\n"
     ]
    }
   ],
   "source": [
    "cat_cols = list(data.select_dtypes('object').columns)\n",
    "print(cat_cols)"
   ]
  },
  {
   "cell_type": "code",
   "execution_count": 15,
   "id": "359b88fe",
   "metadata": {
    "scrolled": false
   },
   "outputs": [
    {
     "data": {
      "text/plain": [
       "<Axes: >"
      ]
     },
     "execution_count": 15,
     "metadata": {},
     "output_type": "execute_result"
    },
    {
     "data": {
      "image/png": "[encoded data removed]",
      "text/plain": [
       "<Figure size 500x400 with 2 Axes>"
      ]
     },
     "metadata": {},
     "output_type": "display_data"
    }
   ],
   "source": [
    "plt.figure(figsize=(5,4))\n",
    "sns.heatmap(data.select_dtypes(exclude='object').corr(method='spearman'),annot=True)"
   ]
  },
  {
   "cell_type": "markdown",
   "id": "cfaf925c",
   "metadata": {},
   "source": [
    "It appears `gross_weight` and `volume` are highly correlated."
   ]
  },
  {
   "cell_type": "code",
   "execution_count": 16,
   "id": "5ce5900b",
   "metadata": {},
   "outputs": [],
   "source": [
    "# remvoving gross_weight column\n",
    "data = data.drop(['gross_weight'],axis = 1)"
   ]
  },
  {
   "cell_type": "markdown",
   "id": "1547d4bc",
   "metadata": {},
   "source": [
    "**There is no Multi-Collineairty in the numerical features**"
   ]
  },
  {
   "cell_type": "markdown",
   "id": "ad08e739",
   "metadata": {},
   "source": [
    "## Mutual Information"
   ]
  },
  {
   "cell_type": "code",
   "execution_count": 15,
   "id": "cb45c89a",
   "metadata": {},
   "outputs": [],
   "source": [
    "from sklearn.feature_selection import mutual_info_classif\n",
    "from sklearn.preprocessing import LabelEncoder"
   ]
  },
  {
   "cell_type": "code",
   "execution_count": 92,
   "id": "ddabe7d8",
   "metadata": {},
   "outputs": [
    {
     "data": {
      "text/html": [
       "<div>\n",
       "<style scoped>\n",
       "    .dataframe tbody tr th:only-of-type {\n",
       "        vertical-align: middle;\n",
       "    }\n",
       "\n",
       "    .dataframe tbody tr th {\n",
       "        vertical-align: top;\n",
       "    }\n",
       "\n",
       "    .dataframe thead th {\n",
       "        text-align: right;\n",
       "    }\n",
       "</style>\n",
       "<table border=\"1\" class=\"dataframe\">\n",
       "  <thead>\n",
       "    <tr style=\"text-align: right;\">\n",
       "      <th></th>\n",
       "      <th>policy_tenure</th>\n",
       "      <th>age_of_car</th>\n",
       "      <th>age_of_policyholder</th>\n",
       "      <th>area_cluster</th>\n",
       "      <th>population_density</th>\n",
       "      <th>make</th>\n",
       "      <th>segment</th>\n",
       "      <th>model</th>\n",
       "      <th>fuel_type</th>\n",
       "      <th>max_torque</th>\n",
       "      <th>...</th>\n",
       "      <th>is_power_door_locks</th>\n",
       "      <th>is_central_locking</th>\n",
       "      <th>is_power_steering</th>\n",
       "      <th>is_driver_seat_height_adjustable</th>\n",
       "      <th>is_day_night_rear_view_mirror</th>\n",
       "      <th>is_ecw</th>\n",
       "      <th>is_speed_alert</th>\n",
       "      <th>ncap_rating</th>\n",
       "      <th>is_claim</th>\n",
       "      <th>volume</th>\n",
       "    </tr>\n",
       "  </thead>\n",
       "  <tbody>\n",
       "    <tr>\n",
       "      <th>0</th>\n",
       "      <td>0.515874</td>\n",
       "      <td>0.05</td>\n",
       "      <td>0.644231</td>\n",
       "      <td>0</td>\n",
       "      <td>4990.0</td>\n",
       "      <td>0</td>\n",
       "      <td>0</td>\n",
       "      <td>0</td>\n",
       "      <td>0</td>\n",
       "      <td>5</td>\n",
       "      <td>...</td>\n",
       "      <td>0</td>\n",
       "      <td>0</td>\n",
       "      <td>1</td>\n",
       "      <td>0</td>\n",
       "      <td>0</td>\n",
       "      <td>0</td>\n",
       "      <td>1</td>\n",
       "      <td>0</td>\n",
       "      <td>0</td>\n",
       "      <td>8.948753</td>\n",
       "    </tr>\n",
       "    <tr>\n",
       "      <th>1</th>\n",
       "      <td>0.672619</td>\n",
       "      <td>0.02</td>\n",
       "      <td>0.375000</td>\n",
       "      <td>11</td>\n",
       "      <td>27003.0</td>\n",
       "      <td>0</td>\n",
       "      <td>0</td>\n",
       "      <td>0</td>\n",
       "      <td>0</td>\n",
       "      <td>5</td>\n",
       "      <td>...</td>\n",
       "      <td>0</td>\n",
       "      <td>0</td>\n",
       "      <td>1</td>\n",
       "      <td>0</td>\n",
       "      <td>0</td>\n",
       "      <td>0</td>\n",
       "      <td>1</td>\n",
       "      <td>0</td>\n",
       "      <td>0</td>\n",
       "      <td>8.948753</td>\n",
       "    </tr>\n",
       "    <tr>\n",
       "      <th>2</th>\n",
       "      <td>0.841110</td>\n",
       "      <td>0.02</td>\n",
       "      <td>0.384615</td>\n",
       "      <td>15</td>\n",
       "      <td>4076.0</td>\n",
       "      <td>0</td>\n",
       "      <td>0</td>\n",
       "      <td>0</td>\n",
       "      <td>0</td>\n",
       "      <td>5</td>\n",
       "      <td>...</td>\n",
       "      <td>0</td>\n",
       "      <td>0</td>\n",
       "      <td>1</td>\n",
       "      <td>0</td>\n",
       "      <td>0</td>\n",
       "      <td>0</td>\n",
       "      <td>1</td>\n",
       "      <td>0</td>\n",
       "      <td>0</td>\n",
       "      <td>8.948753</td>\n",
       "    </tr>\n",
       "    <tr>\n",
       "      <th>3</th>\n",
       "      <td>0.900277</td>\n",
       "      <td>0.11</td>\n",
       "      <td>0.432692</td>\n",
       "      <td>16</td>\n",
       "      <td>21622.0</td>\n",
       "      <td>0</td>\n",
       "      <td>3</td>\n",
       "      <td>3</td>\n",
       "      <td>2</td>\n",
       "      <td>0</td>\n",
       "      <td>...</td>\n",
       "      <td>1</td>\n",
       "      <td>1</td>\n",
       "      <td>1</td>\n",
       "      <td>1</td>\n",
       "      <td>1</td>\n",
       "      <td>1</td>\n",
       "      <td>1</td>\n",
       "      <td>1</td>\n",
       "      <td>0</td>\n",
       "      <td>9.259222</td>\n",
       "    </tr>\n",
       "    <tr>\n",
       "      <th>4</th>\n",
       "      <td>0.596403</td>\n",
       "      <td>0.11</td>\n",
       "      <td>0.634615</td>\n",
       "      <td>17</td>\n",
       "      <td>34738.0</td>\n",
       "      <td>1</td>\n",
       "      <td>0</td>\n",
       "      <td>4</td>\n",
       "      <td>2</td>\n",
       "      <td>8</td>\n",
       "      <td>...</td>\n",
       "      <td>1</td>\n",
       "      <td>1</td>\n",
       "      <td>1</td>\n",
       "      <td>0</td>\n",
       "      <td>1</td>\n",
       "      <td>1</td>\n",
       "      <td>1</td>\n",
       "      <td>1</td>\n",
       "      <td>0</td>\n",
       "      <td>9.079999</td>\n",
       "    </tr>\n",
       "  </tbody>\n",
       "</table>\n",
       "<p>5 rows × 40 columns</p>\n",
       "</div>"
      ],
      "text/plain": [
       "   policy_tenure  age_of_car  age_of_policyholder  area_cluster  \\\n",
       "0       0.515874        0.05             0.644231             0   \n",
       "1       0.672619        0.02             0.375000            11   \n",
       "2       0.841110        0.02             0.384615            15   \n",
       "3       0.900277        0.11             0.432692            16   \n",
       "4       0.596403        0.11             0.634615            17   \n",
       "\n",
       "   population_density  make  segment  model  fuel_type  max_torque  ...  \\\n",
       "0              4990.0     0        0      0          0           5  ...   \n",
       "1             27003.0     0        0      0          0           5  ...   \n",
       "2              4076.0     0        0      0          0           5  ...   \n",
       "3             21622.0     0        3      3          2           0  ...   \n",
       "4             34738.0     1        0      4          2           8  ...   \n",
       "\n",
       "   is_power_door_locks  is_central_locking  is_power_steering  \\\n",
       "0                    0                   0                  1   \n",
       "1                    0                   0                  1   \n",
       "2                    0                   0                  1   \n",
       "3                    1                   1                  1   \n",
       "4                    1                   1                  1   \n",
       "\n",
       "   is_driver_seat_height_adjustable  is_day_night_rear_view_mirror  is_ecw  \\\n",
       "0                                 0                              0       0   \n",
       "1                                 0                              0       0   \n",
       "2                                 0                              0       0   \n",
       "3                                 1                              1       1   \n",
       "4                                 0                              1       1   \n",
       "\n",
       "   is_speed_alert  ncap_rating  is_claim    volume  \n",
       "0               1            0         0  8.948753  \n",
       "1               1            0         0  8.948753  \n",
       "2               1            0         0  8.948753  \n",
       "3               1            1         0  9.259222  \n",
       "4               1            1         0  9.079999  \n",
       "\n",
       "[5 rows x 40 columns]"
      ]
     },
     "execution_count": 92,
     "metadata": {},
     "output_type": "execute_result"
    }
   ],
   "source": [
    "le = LabelEncoder()\n",
    "for col in list(data.select_dtypes(include='object')):\n",
    "    le = LabelEncoder()\n",
    "    data[col] = le.fit_transform(data[col])\n",
    "    \n",
    "data.head()"
   ]
  },
  {
   "cell_type": "code",
   "execution_count": 85,
   "id": "9dd6f2cb",
   "metadata": {},
   "outputs": [],
   "source": [
    "X = data.drop(['is_claim'], axis = 1)\n",
    "y = data['is_claim'].astype('int64')"
   ]
  },
  {
   "cell_type": "code",
   "execution_count": 33,
   "id": "c5de79f9",
   "metadata": {},
   "outputs": [
    {
     "data": {
      "text/plain": [
       "0        0\n",
       "1        0\n",
       "2        0\n",
       "3        0\n",
       "4        0\n",
       "        ..\n",
       "58587    0\n",
       "58588    0\n",
       "58589    0\n",
       "58590    0\n",
       "58591    0\n",
       "Name: is_claim, Length: 55229, dtype: int64"
      ]
     },
     "execution_count": 33,
     "metadata": {},
     "output_type": "execute_result"
    }
   ],
   "source": [
    "y"
   ]
  },
  {
   "cell_type": "code",
   "execution_count": 125,
   "id": "01ffb0d9",
   "metadata": {},
   "outputs": [
    {
     "data": {
      "text/plain": [
       "array([0, 0, 0, ..., 0, 0, 1], dtype=int64)"
      ]
     },
     "execution_count": 125,
     "metadata": {},
     "output_type": "execute_result"
    }
   ],
   "source": [
    "k"
   ]
  },
  {
   "cell_type": "code",
   "execution_count": 50,
   "id": "abee2077",
   "metadata": {},
   "outputs": [],
   "source": [
    "from sklearn.feature_selection import mutual_info_classif\n",
    "\n",
    "def make_mi_scores(X, y):\n",
    "    X = X.copy()\n",
    "    for colname in X.select_dtypes([\"object\", \"category\",\"bool\"]):\n",
    "        X[colname], _ = X[colname].factorize()\n",
    "    # All discrete features should now have integer dtypes\n",
    "    discrete_features = [pd.api.types.is_integer_dtype(t) for t in X.dtypes]\n",
    "    all_mi_scores = []\n",
    "    for random_state in range(0, 5):\n",
    "        mi_scores = mutual_info_classif(X, y, discrete_features=discrete_features, random_state=random_state)\n",
    "        all_mi_scores.append(mi_scores)\n",
    "    all_mi_scores = np.mean(all_mi_scores, axis=0)\n",
    "    all_mi_scores = pd.Series(all_mi_scores, name=\"MI Scores\", index=X.columns)\n",
    "    all_mi_scores = all_mi_scores.sort_values(ascending=False)\n",
    "    return all_mi_scores\n",
    "\n",
    "def plot_mi_scores(scores):\n",
    "    scores = scores.sort_values(ascending=True)\n",
    "    width = np.arange(len(scores))\n",
    "    ticks = list(scores.index)\n",
    "    plt.barh(width, scores)\n",
    "    plt.yticks(width, ticks)\n",
    "    plt.title(\"Mutual Information Scores\")"
   ]
  },
  {
   "cell_type": "code",
   "execution_count": 31,
   "id": "ca89d4e8",
   "metadata": {},
   "outputs": [
    {
     "data": {
      "text/plain": [
       "0        0\n",
       "1        0\n",
       "2        0\n",
       "3        0\n",
       "4        0\n",
       "        ..\n",
       "58587    0\n",
       "58588    0\n",
       "58589    0\n",
       "58590    0\n",
       "58591    0\n",
       "Name: is_claim, Length: 55229, dtype: object"
      ]
     },
     "execution_count": 31,
     "metadata": {},
     "output_type": "execute_result"
    }
   ],
   "source": [
    "y"
   ]
  },
  {
   "cell_type": "code",
   "execution_count": 18,
   "id": "ac42c464",
   "metadata": {},
   "outputs": [],
   "source": [
    "mi_scores = make_mi_scores(data.drop('is_claim', axis=1), y)"
   ]
  },
  {
   "cell_type": "code",
   "execution_count": 36,
   "id": "9ef07535",
   "metadata": {},
   "outputs": [
    {
     "data": {
      "text/plain": [
       "policy_tenure                       2.611635e-03\n",
       "age_of_car                          2.190926e-03\n",
       "volume                              1.711061e-03\n",
       "population_density                  1.280138e-03\n",
       "area_cluster                        8.220007e-04\n",
       "age_of_policyholder                 6.470667e-04\n",
       "model                               1.951929e-04\n",
       "engine_type                         1.951929e-04\n",
       "max_power                           1.894447e-04\n",
       "displacement                        1.894447e-04\n",
       "max_torque                          1.894447e-04\n",
       "turning_radius                      1.264265e-04\n",
       "segment                             1.158691e-04\n",
       "is_adjustable_steering              9.605255e-05\n",
       "cylinder                            9.200762e-05\n",
       "is_front_fog_lights                 6.671089e-05\n",
       "is_brake_assist                     5.913730e-05\n",
       "make                                5.605925e-05\n",
       "is_driver_seat_height_adjustable    5.496095e-05\n",
       "is_parking_sensors                  5.083923e-05\n",
       "steering_type                       4.880297e-05\n",
       "fuel_type                           4.491717e-05\n",
       "is_day_night_rear_view_mirror       3.048624e-05\n",
       "is_speed_alert                      2.684707e-05\n",
       "is_ecw                              1.514014e-05\n",
       "is_central_locking                  1.514014e-05\n",
       "is_power_door_locks                 1.514014e-05\n",
       "ncap_rating                         1.021694e-05\n",
       "is_esc                              3.714574e-06\n",
       "airbags                             3.110661e-06\n",
       "is_rear_window_defogger             2.275252e-06\n",
       "is_rear_window_washer               2.264352e-06\n",
       "is_rear_window_wiper                2.264352e-06\n",
       "is_parking_camera                   1.819333e-06\n",
       "is_power_steering                   1.115144e-06\n",
       "gear_box                            9.065030e-07\n",
       "transmission_type                   4.789075e-08\n",
       "rear_brakes_type                    4.792599e-09\n",
       "is_tpms                             4.792599e-09\n",
       "Name: MI Scores, dtype: float64"
      ]
     },
     "execution_count": 36,
     "metadata": {},
     "output_type": "execute_result"
    }
   ],
   "source": [
    "mi_scores"
   ]
  },
  {
   "cell_type": "code",
   "execution_count": 19,
   "id": "b4fa64f6",
   "metadata": {},
   "outputs": [
    {
     "name": "stdout",
     "output_type": "stream",
     "text": [
      "policy_tenure                       0.002585\n",
      "volume                              0.002372\n",
      "age_of_car                          0.002180\n",
      "population_density                  0.002009\n",
      "area_cluster                        0.000846\n",
      "age_of_policyholder                 0.000555\n",
      "model                               0.000192\n",
      "engine_type                         0.000192\n",
      "max_power                           0.000186\n",
      "displacement                        0.000186\n",
      "max_torque                          0.000186\n",
      "turning_radius                      0.000126\n",
      "segment                             0.000112\n",
      "is_adjustable_steering              0.000095\n",
      "cylinder                            0.000091\n",
      "is_front_fog_lights                 0.000065\n",
      "is_brake_assist                     0.000058\n",
      "is_driver_seat_height_adjustable    0.000053\n",
      "make                                0.000049\n",
      "steering_type                       0.000049\n",
      "Name: MI Scores, dtype: float64\n",
      "steering_type                    4.867740e-05\n",
      "fuel_type                        4.575410e-05\n",
      "is_parking_sensors               4.375957e-05\n",
      "is_speed_alert                   3.156669e-05\n",
      "is_day_night_rear_view_mirror    2.991361e-05\n",
      "is_ecw                           1.683784e-05\n",
      "is_central_locking               1.683784e-05\n",
      "is_power_door_locks              1.683784e-05\n",
      "ncap_rating                      1.151909e-05\n",
      "is_esc                           3.906247e-06\n",
      "airbags                          3.477739e-06\n",
      "is_rear_window_wiper             2.637039e-06\n",
      "is_rear_window_washer            2.637039e-06\n",
      "is_rear_window_defogger          2.282823e-06\n",
      "is_parking_camera                1.277607e-06\n",
      "is_power_steering                1.128856e-06\n",
      "gear_box                         6.779783e-07\n",
      "is_tpms                          1.589353e-08\n",
      "rear_brakes_type                 1.589353e-08\n",
      "transmission_type                1.211840e-08\n",
      "Name: MI Scores, dtype: float64\n"
     ]
    },
    {
     "data": {
      "image/png": "[encoded data removed]",
      "text/plain": [
       "<Figure size 800x500 with 1 Axes>"
      ]
     },
     "metadata": {},
     "output_type": "display_data"
    }
   ],
   "source": [
    "print(mi_scores.head(20))\n",
    "print(mi_scores.tail(20))\n",
    "plt.figure(dpi=100, figsize=(8, 5))\n",
    "plot_mi_scores(mi_scores.head(20))"
   ]
  },
  {
   "cell_type": "markdown",
   "id": "33240f51",
   "metadata": {},
   "source": [
    "**I choose the top 6 columns here**"
   ]
  },
  {
   "cell_type": "code",
   "execution_count": 51,
   "id": "710239d4",
   "metadata": {},
   "outputs": [
    {
     "data": {
      "text/plain": [
       "['policy_tenure',\n",
       " 'volume',\n",
       " 'age_of_car',\n",
       " 'population_density',\n",
       " 'area_cluster',\n",
       " 'age_of_policyholder',\n",
       " 'model']"
      ]
     },
     "execution_count": 51,
     "metadata": {},
     "output_type": "execute_result"
    }
   ],
   "source": [
    "final_columns = list(mi_scores.iloc[:7].index)\n",
    "final_columns"
   ]
  },
  {
   "cell_type": "markdown",
   "id": "7166cf42",
   "metadata": {},
   "source": [
    "## Feature Engineering"
   ]
  },
  {
   "cell_type": "markdown",
   "id": "d3847213",
   "metadata": {},
   "source": [
    "### Handling class imbalance"
   ]
  },
  {
   "cell_type": "code",
   "execution_count": 94,
   "id": "1b7c1f1a",
   "metadata": {},
   "outputs": [],
   "source": [
    "X = X[final_columns]"
   ]
  },
  {
   "cell_type": "code",
   "execution_count": 95,
   "id": "1c0803a4",
   "metadata": {},
   "outputs": [
    {
     "data": {
      "text/plain": [
       "(57550, 13)"
      ]
     },
     "execution_count": 95,
     "metadata": {},
     "output_type": "execute_result"
    }
   ],
   "source": [
    "X.shape"
   ]
  },
  {
   "cell_type": "code",
   "execution_count": 96,
   "id": "1e000995",
   "metadata": {},
   "outputs": [
    {
     "data": {
      "text/plain": [
       "(57550,)"
      ]
     },
     "execution_count": 96,
     "metadata": {},
     "output_type": "execute_result"
    }
   ],
   "source": [
    "y.shape"
   ]
  },
  {
   "cell_type": "code",
   "execution_count": 55,
   "id": "e1c0e6e0",
   "metadata": {},
   "outputs": [
    {
     "data": {
      "text/html": [
       "<div>\n",
       "<style scoped>\n",
       "    .dataframe tbody tr th:only-of-type {\n",
       "        vertical-align: middle;\n",
       "    }\n",
       "\n",
       "    .dataframe tbody tr th {\n",
       "        vertical-align: top;\n",
       "    }\n",
       "\n",
       "    .dataframe thead th {\n",
       "        text-align: right;\n",
       "    }\n",
       "</style>\n",
       "<table border=\"1\" class=\"dataframe\">\n",
       "  <thead>\n",
       "    <tr style=\"text-align: right;\">\n",
       "      <th></th>\n",
       "      <th>policy_tenure</th>\n",
       "      <th>volume</th>\n",
       "      <th>age_of_car</th>\n",
       "      <th>population_density</th>\n",
       "      <th>area_cluster</th>\n",
       "      <th>age_of_policyholder</th>\n",
       "      <th>model</th>\n",
       "    </tr>\n",
       "  </thead>\n",
       "  <tbody>\n",
       "    <tr>\n",
       "      <th>0</th>\n",
       "      <td>0.515874</td>\n",
       "      <td>8.948753</td>\n",
       "      <td>0.05</td>\n",
       "      <td>4990.0</td>\n",
       "      <td>C1</td>\n",
       "      <td>0.644231</td>\n",
       "      <td>M1</td>\n",
       "    </tr>\n",
       "    <tr>\n",
       "      <th>1</th>\n",
       "      <td>0.672619</td>\n",
       "      <td>8.948753</td>\n",
       "      <td>0.02</td>\n",
       "      <td>27003.0</td>\n",
       "      <td>C2</td>\n",
       "      <td>0.375000</td>\n",
       "      <td>M1</td>\n",
       "    </tr>\n",
       "    <tr>\n",
       "      <th>2</th>\n",
       "      <td>0.841110</td>\n",
       "      <td>8.948753</td>\n",
       "      <td>0.02</td>\n",
       "      <td>4076.0</td>\n",
       "      <td>C3</td>\n",
       "      <td>0.384615</td>\n",
       "      <td>M1</td>\n",
       "    </tr>\n",
       "    <tr>\n",
       "      <th>3</th>\n",
       "      <td>0.900277</td>\n",
       "      <td>9.259222</td>\n",
       "      <td>0.11</td>\n",
       "      <td>21622.0</td>\n",
       "      <td>C4</td>\n",
       "      <td>0.432692</td>\n",
       "      <td>M2</td>\n",
       "    </tr>\n",
       "    <tr>\n",
       "      <th>4</th>\n",
       "      <td>0.596403</td>\n",
       "      <td>9.079999</td>\n",
       "      <td>0.11</td>\n",
       "      <td>34738.0</td>\n",
       "      <td>C5</td>\n",
       "      <td>0.634615</td>\n",
       "      <td>M3</td>\n",
       "    </tr>\n",
       "    <tr>\n",
       "      <th>...</th>\n",
       "      <td>...</td>\n",
       "      <td>...</td>\n",
       "      <td>...</td>\n",
       "      <td>...</td>\n",
       "      <td>...</td>\n",
       "      <td>...</td>\n",
       "      <td>...</td>\n",
       "    </tr>\n",
       "    <tr>\n",
       "      <th>58587</th>\n",
       "      <td>0.355089</td>\n",
       "      <td>9.079999</td>\n",
       "      <td>0.13</td>\n",
       "      <td>8794.0</td>\n",
       "      <td>C8</td>\n",
       "      <td>0.644231</td>\n",
       "      <td>M3</td>\n",
       "    </tr>\n",
       "    <tr>\n",
       "      <th>58588</th>\n",
       "      <td>1.199642</td>\n",
       "      <td>8.948753</td>\n",
       "      <td>0.02</td>\n",
       "      <td>7788.0</td>\n",
       "      <td>C14</td>\n",
       "      <td>0.519231</td>\n",
       "      <td>M1</td>\n",
       "    </tr>\n",
       "    <tr>\n",
       "      <th>58589</th>\n",
       "      <td>1.162273</td>\n",
       "      <td>8.948753</td>\n",
       "      <td>0.05</td>\n",
       "      <td>34738.0</td>\n",
       "      <td>C5</td>\n",
       "      <td>0.451923</td>\n",
       "      <td>M1</td>\n",
       "    </tr>\n",
       "    <tr>\n",
       "      <th>58590</th>\n",
       "      <td>1.236307</td>\n",
       "      <td>9.230804</td>\n",
       "      <td>0.14</td>\n",
       "      <td>8794.0</td>\n",
       "      <td>C8</td>\n",
       "      <td>0.557692</td>\n",
       "      <td>M6</td>\n",
       "    </tr>\n",
       "    <tr>\n",
       "      <th>58591</th>\n",
       "      <td>0.124429</td>\n",
       "      <td>9.440229</td>\n",
       "      <td>0.02</td>\n",
       "      <td>8794.0</td>\n",
       "      <td>C8</td>\n",
       "      <td>0.442308</td>\n",
       "      <td>M4</td>\n",
       "    </tr>\n",
       "  </tbody>\n",
       "</table>\n",
       "<p>57550 rows × 7 columns</p>\n",
       "</div>"
      ],
      "text/plain": [
       "       policy_tenure    volume  age_of_car  population_density area_cluster  \\\n",
       "0           0.515874  8.948753        0.05              4990.0           C1   \n",
       "1           0.672619  8.948753        0.02             27003.0           C2   \n",
       "2           0.841110  8.948753        0.02              4076.0           C3   \n",
       "3           0.900277  9.259222        0.11             21622.0           C4   \n",
       "4           0.596403  9.079999        0.11             34738.0           C5   \n",
       "...              ...       ...         ...                 ...          ...   \n",
       "58587       0.355089  9.079999        0.13              8794.0           C8   \n",
       "58588       1.199642  8.948753        0.02              7788.0          C14   \n",
       "58589       1.162273  8.948753        0.05             34738.0           C5   \n",
       "58590       1.236307  9.230804        0.14              8794.0           C8   \n",
       "58591       0.124429  9.440229        0.02              8794.0           C8   \n",
       "\n",
       "       age_of_policyholder model  \n",
       "0                 0.644231    M1  \n",
       "1                 0.375000    M1  \n",
       "2                 0.384615    M1  \n",
       "3                 0.432692    M2  \n",
       "4                 0.634615    M3  \n",
       "...                    ...   ...  \n",
       "58587             0.644231    M3  \n",
       "58588             0.519231    M1  \n",
       "58589             0.451923    M1  \n",
       "58590             0.557692    M6  \n",
       "58591             0.442308    M4  \n",
       "\n",
       "[57550 rows x 7 columns]"
      ]
     },
     "execution_count": 55,
     "metadata": {},
     "output_type": "execute_result"
    }
   ],
   "source": [
    "X"
   ]
  },
  {
   "cell_type": "markdown",
   "id": "19f65573",
   "metadata": {},
   "source": [
    "### Train test split"
   ]
  },
  {
   "cell_type": "code",
   "execution_count": 89,
   "id": "f2046c40",
   "metadata": {},
   "outputs": [],
   "source": [
    "from sklearn.model_selection import train_test_split\n",
    "\n",
    "X_train, X_test, y_train, y_test = train_test_split(X,y,test_size=0.2,random_state=42)"
   ]
  },
  {
   "cell_type": "code",
   "execution_count": 23,
   "id": "aeb5d3c0",
   "metadata": {},
   "outputs": [
    {
     "data": {
      "text/html": [
       "<div>\n",
       "<style scoped>\n",
       "    .dataframe tbody tr th:only-of-type {\n",
       "        vertical-align: middle;\n",
       "    }\n",
       "\n",
       "    .dataframe tbody tr th {\n",
       "        vertical-align: top;\n",
       "    }\n",
       "\n",
       "    .dataframe thead th {\n",
       "        text-align: right;\n",
       "    }\n",
       "</style>\n",
       "<table border=\"1\" class=\"dataframe\">\n",
       "  <thead>\n",
       "    <tr style=\"text-align: right;\">\n",
       "      <th></th>\n",
       "      <th>policy_tenure</th>\n",
       "      <th>volume</th>\n",
       "      <th>age_of_car</th>\n",
       "      <th>population_density</th>\n",
       "      <th>area_cluster</th>\n",
       "      <th>age_of_policyholder</th>\n",
       "      <th>model</th>\n",
       "    </tr>\n",
       "  </thead>\n",
       "  <tbody>\n",
       "    <tr>\n",
       "      <th>7131</th>\n",
       "      <td>0.085303</td>\n",
       "      <td>9.440229</td>\n",
       "      <td>0.06</td>\n",
       "      <td>6112.0</td>\n",
       "      <td>C7</td>\n",
       "      <td>0.365385</td>\n",
       "      <td>M4</td>\n",
       "    </tr>\n",
       "    <tr>\n",
       "      <th>54700</th>\n",
       "      <td>0.719494</td>\n",
       "      <td>9.440229</td>\n",
       "      <td>0.10</td>\n",
       "      <td>5410.0</td>\n",
       "      <td>C13</td>\n",
       "      <td>0.548077</td>\n",
       "      <td>M4</td>\n",
       "    </tr>\n",
       "    <tr>\n",
       "      <th>46680</th>\n",
       "      <td>1.145016</td>\n",
       "      <td>9.202091</td>\n",
       "      <td>0.03</td>\n",
       "      <td>3264.0</td>\n",
       "      <td>C21</td>\n",
       "      <td>0.336538</td>\n",
       "      <td>M8</td>\n",
       "    </tr>\n",
       "    <tr>\n",
       "      <th>5262</th>\n",
       "      <td>1.012593</td>\n",
       "      <td>9.230804</td>\n",
       "      <td>0.07</td>\n",
       "      <td>5410.0</td>\n",
       "      <td>C13</td>\n",
       "      <td>0.326923</td>\n",
       "      <td>M6</td>\n",
       "    </tr>\n",
       "    <tr>\n",
       "      <th>45095</th>\n",
       "      <td>0.035940</td>\n",
       "      <td>9.079999</td>\n",
       "      <td>0.06</td>\n",
       "      <td>5410.0</td>\n",
       "      <td>C13</td>\n",
       "      <td>0.471154</td>\n",
       "      <td>M3</td>\n",
       "    </tr>\n",
       "    <tr>\n",
       "      <th>...</th>\n",
       "      <td>...</td>\n",
       "      <td>...</td>\n",
       "      <td>...</td>\n",
       "      <td>...</td>\n",
       "      <td>...</td>\n",
       "      <td>...</td>\n",
       "      <td>...</td>\n",
       "    </tr>\n",
       "    <tr>\n",
       "      <th>55327</th>\n",
       "      <td>0.063640</td>\n",
       "      <td>9.230804</td>\n",
       "      <td>0.00</td>\n",
       "      <td>8794.0</td>\n",
       "      <td>C8</td>\n",
       "      <td>0.528846</td>\n",
       "      <td>M6</td>\n",
       "    </tr>\n",
       "    <tr>\n",
       "      <th>38836</th>\n",
       "      <td>0.645955</td>\n",
       "      <td>9.253766</td>\n",
       "      <td>0.04</td>\n",
       "      <td>27742.0</td>\n",
       "      <td>C19</td>\n",
       "      <td>0.432692</td>\n",
       "      <td>M7</td>\n",
       "    </tr>\n",
       "    <tr>\n",
       "      <th>872</th>\n",
       "      <td>1.235256</td>\n",
       "      <td>9.230804</td>\n",
       "      <td>0.17</td>\n",
       "      <td>34791.0</td>\n",
       "      <td>C12</td>\n",
       "      <td>0.692308</td>\n",
       "      <td>M6</td>\n",
       "    </tr>\n",
       "    <tr>\n",
       "      <th>16074</th>\n",
       "      <td>0.370551</td>\n",
       "      <td>9.230804</td>\n",
       "      <td>0.05</td>\n",
       "      <td>4076.0</td>\n",
       "      <td>C3</td>\n",
       "      <td>0.490385</td>\n",
       "      <td>M6</td>\n",
       "    </tr>\n",
       "    <tr>\n",
       "      <th>57441</th>\n",
       "      <td>0.140682</td>\n",
       "      <td>8.948753</td>\n",
       "      <td>0.03</td>\n",
       "      <td>7788.0</td>\n",
       "      <td>C14</td>\n",
       "      <td>0.317308</td>\n",
       "      <td>M1</td>\n",
       "    </tr>\n",
       "  </tbody>\n",
       "</table>\n",
       "<p>46040 rows × 7 columns</p>\n",
       "</div>"
      ],
      "text/plain": [
       "       policy_tenure    volume  age_of_car  population_density area_cluster  \\\n",
       "7131        0.085303  9.440229        0.06              6112.0           C7   \n",
       "54700       0.719494  9.440229        0.10              5410.0          C13   \n",
       "46680       1.145016  9.202091        0.03              3264.0          C21   \n",
       "5262        1.012593  9.230804        0.07              5410.0          C13   \n",
       "45095       0.035940  9.079999        0.06              5410.0          C13   \n",
       "...              ...       ...         ...                 ...          ...   \n",
       "55327       0.063640  9.230804        0.00              8794.0           C8   \n",
       "38836       0.645955  9.253766        0.04             27742.0          C19   \n",
       "872         1.235256  9.230804        0.17             34791.0          C12   \n",
       "16074       0.370551  9.230804        0.05              4076.0           C3   \n",
       "57441       0.140682  8.948753        0.03              7788.0          C14   \n",
       "\n",
       "       age_of_policyholder model  \n",
       "7131              0.365385    M4  \n",
       "54700             0.548077    M4  \n",
       "46680             0.336538    M8  \n",
       "5262              0.326923    M6  \n",
       "45095             0.471154    M3  \n",
       "...                    ...   ...  \n",
       "55327             0.528846    M6  \n",
       "38836             0.432692    M7  \n",
       "872               0.692308    M6  \n",
       "16074             0.490385    M6  \n",
       "57441             0.317308    M1  \n",
       "\n",
       "[46040 rows x 7 columns]"
      ]
     },
     "execution_count": 23,
     "metadata": {},
     "output_type": "execute_result"
    }
   ],
   "source": [
    "X_train"
   ]
  },
  {
   "cell_type": "code",
   "execution_count": 24,
   "id": "a1e32875",
   "metadata": {},
   "outputs": [
    {
     "data": {
      "text/html": [
       "<div>\n",
       "<style scoped>\n",
       "    .dataframe tbody tr th:only-of-type {\n",
       "        vertical-align: middle;\n",
       "    }\n",
       "\n",
       "    .dataframe tbody tr th {\n",
       "        vertical-align: top;\n",
       "    }\n",
       "\n",
       "    .dataframe thead th {\n",
       "        text-align: right;\n",
       "    }\n",
       "</style>\n",
       "<table border=\"1\" class=\"dataframe\">\n",
       "  <thead>\n",
       "    <tr style=\"text-align: right;\">\n",
       "      <th></th>\n",
       "      <th>policy_tenure</th>\n",
       "      <th>volume</th>\n",
       "      <th>age_of_car</th>\n",
       "      <th>population_density</th>\n",
       "      <th>area_cluster</th>\n",
       "      <th>age_of_policyholder</th>\n",
       "      <th>model</th>\n",
       "    </tr>\n",
       "  </thead>\n",
       "  <tbody>\n",
       "    <tr>\n",
       "      <th>8950</th>\n",
       "      <td>1.003492</td>\n",
       "      <td>8.948753</td>\n",
       "      <td>0.01</td>\n",
       "      <td>4990.0</td>\n",
       "      <td>C1</td>\n",
       "      <td>0.365385</td>\n",
       "      <td>M1</td>\n",
       "    </tr>\n",
       "    <tr>\n",
       "      <th>16085</th>\n",
       "      <td>0.436722</td>\n",
       "      <td>8.948753</td>\n",
       "      <td>0.04</td>\n",
       "      <td>73430.0</td>\n",
       "      <td>C10</td>\n",
       "      <td>0.538462</td>\n",
       "      <td>M1</td>\n",
       "    </tr>\n",
       "    <tr>\n",
       "      <th>56122</th>\n",
       "      <td>1.221547</td>\n",
       "      <td>9.079999</td>\n",
       "      <td>0.12</td>\n",
       "      <td>8794.0</td>\n",
       "      <td>C8</td>\n",
       "      <td>0.480769</td>\n",
       "      <td>M3</td>\n",
       "    </tr>\n",
       "    <tr>\n",
       "      <th>56672</th>\n",
       "      <td>0.143468</td>\n",
       "      <td>9.440229</td>\n",
       "      <td>0.19</td>\n",
       "      <td>8794.0</td>\n",
       "      <td>C8</td>\n",
       "      <td>0.605769</td>\n",
       "      <td>M4</td>\n",
       "    </tr>\n",
       "    <tr>\n",
       "      <th>11125</th>\n",
       "      <td>0.379891</td>\n",
       "      <td>8.948753</td>\n",
       "      <td>0.00</td>\n",
       "      <td>73430.0</td>\n",
       "      <td>C10</td>\n",
       "      <td>0.394231</td>\n",
       "      <td>M1</td>\n",
       "    </tr>\n",
       "    <tr>\n",
       "      <th>...</th>\n",
       "      <td>...</td>\n",
       "      <td>...</td>\n",
       "      <td>...</td>\n",
       "      <td>...</td>\n",
       "      <td>...</td>\n",
       "      <td>...</td>\n",
       "      <td>...</td>\n",
       "    </tr>\n",
       "    <tr>\n",
       "      <th>51956</th>\n",
       "      <td>1.203196</td>\n",
       "      <td>9.202091</td>\n",
       "      <td>0.08</td>\n",
       "      <td>7788.0</td>\n",
       "      <td>C14</td>\n",
       "      <td>0.480769</td>\n",
       "      <td>M8</td>\n",
       "    </tr>\n",
       "    <tr>\n",
       "      <th>50664</th>\n",
       "      <td>0.463661</td>\n",
       "      <td>8.948753</td>\n",
       "      <td>0.03</td>\n",
       "      <td>34738.0</td>\n",
       "      <td>C5</td>\n",
       "      <td>0.519231</td>\n",
       "      <td>M1</td>\n",
       "    </tr>\n",
       "    <tr>\n",
       "      <th>56146</th>\n",
       "      <td>0.132270</td>\n",
       "      <td>8.948753</td>\n",
       "      <td>0.01</td>\n",
       "      <td>73430.0</td>\n",
       "      <td>C10</td>\n",
       "      <td>0.298077</td>\n",
       "      <td>M1</td>\n",
       "    </tr>\n",
       "    <tr>\n",
       "      <th>54013</th>\n",
       "      <td>1.007204</td>\n",
       "      <td>8.948753</td>\n",
       "      <td>0.01</td>\n",
       "      <td>7788.0</td>\n",
       "      <td>C14</td>\n",
       "      <td>0.451923</td>\n",
       "      <td>M1</td>\n",
       "    </tr>\n",
       "    <tr>\n",
       "      <th>8566</th>\n",
       "      <td>0.293145</td>\n",
       "      <td>9.230804</td>\n",
       "      <td>0.04</td>\n",
       "      <td>8794.0</td>\n",
       "      <td>C8</td>\n",
       "      <td>0.288462</td>\n",
       "      <td>M6</td>\n",
       "    </tr>\n",
       "  </tbody>\n",
       "</table>\n",
       "<p>11510 rows × 7 columns</p>\n",
       "</div>"
      ],
      "text/plain": [
       "       policy_tenure    volume  age_of_car  population_density area_cluster  \\\n",
       "8950        1.003492  8.948753        0.01              4990.0           C1   \n",
       "16085       0.436722  8.948753        0.04             73430.0          C10   \n",
       "56122       1.221547  9.079999        0.12              8794.0           C8   \n",
       "56672       0.143468  9.440229        0.19              8794.0           C8   \n",
       "11125       0.379891  8.948753        0.00             73430.0          C10   \n",
       "...              ...       ...         ...                 ...          ...   \n",
       "51956       1.203196  9.202091        0.08              7788.0          C14   \n",
       "50664       0.463661  8.948753        0.03             34738.0           C5   \n",
       "56146       0.132270  8.948753        0.01             73430.0          C10   \n",
       "54013       1.007204  8.948753        0.01              7788.0          C14   \n",
       "8566        0.293145  9.230804        0.04              8794.0           C8   \n",
       "\n",
       "       age_of_policyholder model  \n",
       "8950              0.365385    M1  \n",
       "16085             0.538462    M1  \n",
       "56122             0.480769    M3  \n",
       "56672             0.605769    M4  \n",
       "11125             0.394231    M1  \n",
       "...                    ...   ...  \n",
       "51956             0.480769    M8  \n",
       "50664             0.519231    M1  \n",
       "56146             0.298077    M1  \n",
       "54013             0.451923    M1  \n",
       "8566              0.288462    M6  \n",
       "\n",
       "[11510 rows x 7 columns]"
      ]
     },
     "execution_count": 24,
     "metadata": {},
     "output_type": "execute_result"
    }
   ],
   "source": [
    "X_test"
   ]
  },
  {
   "cell_type": "code",
   "execution_count": 47,
   "id": "6263c298",
   "metadata": {},
   "outputs": [
    {
     "data": {
      "text/plain": [
       "27935    0\n",
       "8314     0\n",
       "17678    0\n",
       "35104    0\n",
       "42670    1\n",
       "        ..\n",
       "47430    0\n",
       "57655    0\n",
       "40429    0\n",
       "904      0\n",
       "16742    0\n",
       "Name: is_claim, Length: 44183, dtype: int64"
      ]
     },
     "execution_count": 47,
     "metadata": {},
     "output_type": "execute_result"
    }
   ],
   "source": [
    "y_train"
   ]
  },
  {
   "cell_type": "code",
   "execution_count": 82,
   "id": "2181fc8c",
   "metadata": {},
   "outputs": [
    {
     "data": {
      "text/plain": [
       "['policy_tenure',\n",
       " 'age_of_car',\n",
       " 'age_of_policyholder',\n",
       " 'max_torque',\n",
       " 'max_power',\n",
       " 'displacement',\n",
       " 'area_cluster',\n",
       " 'make',\n",
       " 'segment',\n",
       " 'model',\n",
       " 'fuel_type',\n",
       " 'engine_type',\n",
       " 'rear_brakes_type',\n",
       " 'transmission_type',\n",
       " 'steering_type']"
      ]
     },
     "execution_count": 82,
     "metadata": {},
     "output_type": "execute_result"
    }
   ],
   "source": [
    "final_columns"
   ]
  },
  {
   "cell_type": "code",
   "execution_count": 57,
   "id": "c3dceec2",
   "metadata": {},
   "outputs": [],
   "source": [
    "# Categorical columns\n",
    "cat_cols = ['model','area_cluster']\n",
    "\n",
    "num_cols = ['policy_tenure','volume','age_of_car', 'age_of_policyholder','population_density']"
   ]
  },
  {
   "cell_type": "code",
   "execution_count": 92,
   "id": "27a87f2f",
   "metadata": {},
   "outputs": [],
   "source": [
    "num_cols = ['policy_tenure', 'age_of_car', 'age_of_policyholder', 'displacement']\n",
    "cat_cols = ['area_cluster', 'make', 'segment', 'model', 'fuel_type', 'engine_type', 'rear_brakes_type', 'transmission_type', 'steering_type']\n"
   ]
  },
  {
   "cell_type": "code",
   "execution_count": 93,
   "id": "8153342b",
   "metadata": {},
   "outputs": [],
   "source": [
    "final_columns = num_cols+cat_cols"
   ]
  },
  {
   "cell_type": "code",
   "execution_count": 58,
   "id": "c47a5eef",
   "metadata": {},
   "outputs": [
    {
     "data": {
      "text/plain": [
       "['model', 'area_cluster']"
      ]
     },
     "execution_count": 58,
     "metadata": {},
     "output_type": "execute_result"
    }
   ],
   "source": [
    "cat_cols"
   ]
  },
  {
   "cell_type": "code",
   "execution_count": 60,
   "id": "745557ef",
   "metadata": {},
   "outputs": [
    {
     "data": {
      "text/plain": [
       "['policy_tenure',\n",
       " 'volume',\n",
       " 'age_of_car',\n",
       " 'age_of_policyholder',\n",
       " 'population_density']"
      ]
     },
     "execution_count": 60,
     "metadata": {},
     "output_type": "execute_result"
    }
   ],
   "source": [
    "num_cols"
   ]
  },
  {
   "cell_type": "code",
   "execution_count": 97,
   "id": "bf2a3aba",
   "metadata": {},
   "outputs": [],
   "source": [
    "from sklearn.compose import ColumnTransformer\n",
    "from sklearn.pipeline import Pipeline\n",
    "from sklearn.preprocessing import StandardScaler, PowerTransformer, OneHotEncoder\n",
    "\n",
    "preprocessor = ColumnTransformer(\n",
    "    transformers=[\n",
    "        ('num', Pipeline([('scaler', StandardScaler()), ('power', PowerTransformer())]), num_cols),\n",
    "        ('cat', OneHotEncoder(drop='first'), cat_cols)\n",
    "    ])"
   ]
  },
  {
   "cell_type": "code",
   "execution_count": 83,
   "id": "3767535a",
   "metadata": {},
   "outputs": [
    {
     "data": {
      "text/html": [
       "<div>\n",
       "<style scoped>\n",
       "    .dataframe tbody tr th:only-of-type {\n",
       "        vertical-align: middle;\n",
       "    }\n",
       "\n",
       "    .dataframe tbody tr th {\n",
       "        vertical-align: top;\n",
       "    }\n",
       "\n",
       "    .dataframe thead th {\n",
       "        text-align: right;\n",
       "    }\n",
       "</style>\n",
       "<table border=\"1\" class=\"dataframe\">\n",
       "  <thead>\n",
       "    <tr style=\"text-align: right;\">\n",
       "      <th></th>\n",
       "      <th>policy_tenure</th>\n",
       "      <th>volume</th>\n",
       "      <th>age_of_car</th>\n",
       "      <th>population_density</th>\n",
       "      <th>area_cluster</th>\n",
       "      <th>age_of_policyholder</th>\n",
       "      <th>model</th>\n",
       "    </tr>\n",
       "  </thead>\n",
       "  <tbody>\n",
       "    <tr>\n",
       "      <th>7131</th>\n",
       "      <td>0.085303</td>\n",
       "      <td>9.440229</td>\n",
       "      <td>0.06</td>\n",
       "      <td>6112.0</td>\n",
       "      <td>C7</td>\n",
       "      <td>0.365385</td>\n",
       "      <td>M4</td>\n",
       "    </tr>\n",
       "    <tr>\n",
       "      <th>54700</th>\n",
       "      <td>0.719494</td>\n",
       "      <td>9.440229</td>\n",
       "      <td>0.10</td>\n",
       "      <td>5410.0</td>\n",
       "      <td>C13</td>\n",
       "      <td>0.548077</td>\n",
       "      <td>M4</td>\n",
       "    </tr>\n",
       "    <tr>\n",
       "      <th>46680</th>\n",
       "      <td>1.145016</td>\n",
       "      <td>9.202091</td>\n",
       "      <td>0.03</td>\n",
       "      <td>3264.0</td>\n",
       "      <td>C21</td>\n",
       "      <td>0.336538</td>\n",
       "      <td>M8</td>\n",
       "    </tr>\n",
       "    <tr>\n",
       "      <th>5262</th>\n",
       "      <td>1.012593</td>\n",
       "      <td>9.230804</td>\n",
       "      <td>0.07</td>\n",
       "      <td>5410.0</td>\n",
       "      <td>C13</td>\n",
       "      <td>0.326923</td>\n",
       "      <td>M6</td>\n",
       "    </tr>\n",
       "    <tr>\n",
       "      <th>45095</th>\n",
       "      <td>0.035940</td>\n",
       "      <td>9.079999</td>\n",
       "      <td>0.06</td>\n",
       "      <td>5410.0</td>\n",
       "      <td>C13</td>\n",
       "      <td>0.471154</td>\n",
       "      <td>M3</td>\n",
       "    </tr>\n",
       "    <tr>\n",
       "      <th>...</th>\n",
       "      <td>...</td>\n",
       "      <td>...</td>\n",
       "      <td>...</td>\n",
       "      <td>...</td>\n",
       "      <td>...</td>\n",
       "      <td>...</td>\n",
       "      <td>...</td>\n",
       "    </tr>\n",
       "    <tr>\n",
       "      <th>55327</th>\n",
       "      <td>0.063640</td>\n",
       "      <td>9.230804</td>\n",
       "      <td>0.00</td>\n",
       "      <td>8794.0</td>\n",
       "      <td>C8</td>\n",
       "      <td>0.528846</td>\n",
       "      <td>M6</td>\n",
       "    </tr>\n",
       "    <tr>\n",
       "      <th>38836</th>\n",
       "      <td>0.645955</td>\n",
       "      <td>9.253766</td>\n",
       "      <td>0.04</td>\n",
       "      <td>27742.0</td>\n",
       "      <td>C19</td>\n",
       "      <td>0.432692</td>\n",
       "      <td>M7</td>\n",
       "    </tr>\n",
       "    <tr>\n",
       "      <th>872</th>\n",
       "      <td>1.235256</td>\n",
       "      <td>9.230804</td>\n",
       "      <td>0.17</td>\n",
       "      <td>34791.0</td>\n",
       "      <td>C12</td>\n",
       "      <td>0.692308</td>\n",
       "      <td>M6</td>\n",
       "    </tr>\n",
       "    <tr>\n",
       "      <th>16074</th>\n",
       "      <td>0.370551</td>\n",
       "      <td>9.230804</td>\n",
       "      <td>0.05</td>\n",
       "      <td>4076.0</td>\n",
       "      <td>C3</td>\n",
       "      <td>0.490385</td>\n",
       "      <td>M6</td>\n",
       "    </tr>\n",
       "    <tr>\n",
       "      <th>57441</th>\n",
       "      <td>0.140682</td>\n",
       "      <td>8.948753</td>\n",
       "      <td>0.03</td>\n",
       "      <td>7788.0</td>\n",
       "      <td>C14</td>\n",
       "      <td>0.317308</td>\n",
       "      <td>M1</td>\n",
       "    </tr>\n",
       "  </tbody>\n",
       "</table>\n",
       "<p>46040 rows × 7 columns</p>\n",
       "</div>"
      ],
      "text/plain": [
       "       policy_tenure    volume  age_of_car  population_density area_cluster  \\\n",
       "7131        0.085303  9.440229        0.06              6112.0           C7   \n",
       "54700       0.719494  9.440229        0.10              5410.0          C13   \n",
       "46680       1.145016  9.202091        0.03              3264.0          C21   \n",
       "5262        1.012593  9.230804        0.07              5410.0          C13   \n",
       "45095       0.035940  9.079999        0.06              5410.0          C13   \n",
       "...              ...       ...         ...                 ...          ...   \n",
       "55327       0.063640  9.230804        0.00              8794.0           C8   \n",
       "38836       0.645955  9.253766        0.04             27742.0          C19   \n",
       "872         1.235256  9.230804        0.17             34791.0          C12   \n",
       "16074       0.370551  9.230804        0.05              4076.0           C3   \n",
       "57441       0.140682  8.948753        0.03              7788.0          C14   \n",
       "\n",
       "       age_of_policyholder model  \n",
       "7131              0.365385    M4  \n",
       "54700             0.548077    M4  \n",
       "46680             0.336538    M8  \n",
       "5262              0.326923    M6  \n",
       "45095             0.471154    M3  \n",
       "...                    ...   ...  \n",
       "55327             0.528846    M6  \n",
       "38836             0.432692    M7  \n",
       "872               0.692308    M6  \n",
       "16074             0.490385    M6  \n",
       "57441             0.317308    M1  \n",
       "\n",
       "[46040 rows x 7 columns]"
      ]
     },
     "execution_count": 83,
     "metadata": {},
     "output_type": "execute_result"
    }
   ],
   "source": [
    "X_train"
   ]
  },
  {
   "cell_type": "code",
   "execution_count": 98,
   "id": "76fabf7b",
   "metadata": {},
   "outputs": [],
   "source": [
    "X_train_transformed = preprocessor.fit_transform(X_train)\n",
    "X_test_transformed = preprocessor.transform(X_test)"
   ]
  },
  {
   "cell_type": "code",
   "execution_count": 99,
   "id": "8f35e9f9",
   "metadata": {},
   "outputs": [],
   "source": [
    "from collections import Counter\n",
    "from imblearn.over_sampling import SMOTE"
   ]
  },
  {
   "cell_type": "code",
   "execution_count": 100,
   "id": "91c1ec66",
   "metadata": {},
   "outputs": [],
   "source": [
    "sme = SMOTE(random_state=42)\n",
    "X_res, y_res = sme.fit_resample(X_train_transformed, y_train)"
   ]
  },
  {
   "cell_type": "code",
   "execution_count": 122,
   "id": "1467e890",
   "metadata": {},
   "outputs": [
    {
     "name": "stdout",
     "output_type": "stream",
     "text": [
      "Before resampling:  Counter({0: 43098, 1: 2942})\n",
      "After resampling:  Counter({0: 43098, 1: 43098})\n"
     ]
    }
   ],
   "source": [
    "print(\"Before resampling: \", Counter(y_train))\n",
    "print(\"After resampling: \", Counter(y_res))"
   ]
  },
  {
   "cell_type": "code",
   "execution_count": null,
   "id": "8068cf1f",
   "metadata": {},
   "outputs": [],
   "source": []
  },
  {
   "cell_type": "code",
   "execution_count": null,
   "id": "d74bc21d",
   "metadata": {},
   "outputs": [],
   "source": []
  },
  {
   "cell_type": "code",
   "execution_count": null,
   "id": "d9b7009c",
   "metadata": {},
   "outputs": [],
   "source": []
  },
  {
   "cell_type": "code",
   "execution_count": null,
   "id": "1968c1cb",
   "metadata": {},
   "outputs": [],
   "source": []
  },
  {
   "cell_type": "code",
   "execution_count": null,
   "id": "b971b7d2",
   "metadata": {},
   "outputs": [],
   "source": []
  },
  {
   "cell_type": "markdown",
   "id": "4b4b34e0",
   "metadata": {},
   "source": [
    "## Encoding categorical variables"
   ]
  },
  {
   "cell_type": "code",
   "execution_count": 32,
   "id": "c6594214",
   "metadata": {},
   "outputs": [],
   "source": [
    "X_res = preprocessor.fit_transform(X_res)\n",
    "X_test = preprocessor.transform(X_test)"
   ]
  },
  {
   "cell_type": "code",
   "execution_count": 33,
   "id": "5947c515",
   "metadata": {},
   "outputs": [
    {
     "data": {
      "text/plain": [
       "array([[2.85714286e-01, 1.53846154e-01, 5.92349692e-02, ...,\n",
       "        9.43700000e+03, 1.90000000e+01, 5.00000000e+00],\n",
       "       [4.76190476e-01, 5.19230769e-01, 5.14208791e-01, ...,\n",
       "        9.43700000e+03, 4.00000000e+00, 5.00000000e+00],\n",
       "       [1.42857143e-01, 9.61538462e-02, 8.19481726e-01, ...,\n",
       "        1.84600000e+03, 1.30000000e+01, 9.00000000e+00],\n",
       "       ...,\n",
       "       [6.62565603e-01, 4.45788854e-01, 3.60409481e-01, ...,\n",
       "        4.92600000e+03, 2.00000000e+01, 7.00000000e+00],\n",
       "       [3.21532708e-01, 7.86866215e-02, 8.81500354e-01, ...,\n",
       "        9.43700000e+03, 1.10000000e+01, 5.00000000e+00],\n",
       "       [9.52380952e-02, 5.38590564e-01, 2.92020960e-01, ...,\n",
       "        0.00000000e+00, 1.00000000e+00, 0.00000000e+00]])"
      ]
     },
     "execution_count": 33,
     "metadata": {},
     "output_type": "execute_result"
    }
   ],
   "source": [
    "X_res"
   ]
  },
  {
   "cell_type": "code",
   "execution_count": 70,
   "id": "b55c9da7",
   "metadata": {},
   "outputs": [
    {
     "data": {
      "text/plain": [
       "array([[2.38095238e-01, 9.30232558e-02, 8.77710051e-01, ...,\n",
       "        9.03800000e+03, 1.10000000e+01, 5.00000000e+00],\n",
       "       [3.80952381e-01, 4.65116279e-02, 7.44408105e-01, ...,\n",
       "        7.05800000e+03, 2.00000000e+01, 8.00000000e+00],\n",
       "       [6.66666667e-01, 3.25581395e-01, 7.94708474e-01, ...,\n",
       "        4.68300000e+03, 1.00000000e+00, 7.00000000e+00],\n",
       "       ...,\n",
       "       [6.19047619e-01, 9.30232558e-02, 3.02958438e-01, ...,\n",
       "        4.68300000e+03, 4.00000000e+00, 7.00000000e+00],\n",
       "       [6.19047619e-01, 3.72093023e-01, 7.53770705e-01, ...,\n",
       "        4.68300000e+03, 2.00000000e+01, 7.00000000e+00],\n",
       "       [0.00000000e+00, 6.27906977e-01, 5.69093098e-01, ...,\n",
       "        0.00000000e+00, 1.00000000e+00, 0.00000000e+00]])"
      ]
     },
     "execution_count": 70,
     "metadata": {},
     "output_type": "execute_result"
    }
   ],
   "source": [
    "X_test"
   ]
  },
  {
   "cell_type": "code",
   "execution_count": 88,
   "id": "b82c9178",
   "metadata": {},
   "outputs": [],
   "source": [
    "from sklearn.preprocessing import StandardScaler\n",
    "scaler = StandardScaler()\n",
    "\n",
    "for i in list(X_train.iloc[:,:4].columns):\n",
    "    X_train[i] = scaler.fit_transform(X_train[[i]])\n",
    "    X_test[i] = scaler.transform(X_test[[i]])\n"
   ]
  },
  {
   "cell_type": "markdown",
   "id": "0100ce13",
   "metadata": {},
   "source": [
    "## Model Training"
   ]
  },
  {
   "cell_type": "code",
   "execution_count": 69,
   "id": "bb3d288b",
   "metadata": {},
   "outputs": [],
   "source": [
    "from sklearn.linear_model import LogisticRegression\n",
    "from sklearn.ensemble import RandomForestClassifier, AdaBoostClassifier, GradientBoostingClassifier\n",
    "from sklearn.neighbors import KNeighborsClassifier\n",
    "from sklearn.tree import DecisionTreeClassifier\n",
    "from sklearn.svm import SVC\n",
    "from xgboost import XGBClassifier\n",
    "\n",
    "from sklearn.metrics import accuracy_score, precision_score, recall_score,f1_score"
   ]
  },
  {
   "cell_type": "code",
   "execution_count": 70,
   "id": "f4f0078d",
   "metadata": {},
   "outputs": [],
   "source": [
    "def evaluation(true,predicted):\n",
    "    acc = accuracy_score(true, predicted) # Calculate Accuracy\n",
    "    f1 = f1_score(true, predicted) # Calculate F1-score\n",
    "    precision = precision_score(true, predicted) # Calculate Precision\n",
    "    recall = recall_score(true, predicted)  # Calculate Recall\n",
    "    return acc, f1 , precision, recall\n",
    "    "
   ]
  },
  {
   "cell_type": "code",
   "execution_count": 115,
   "id": "99ed6ca2",
   "metadata": {},
   "outputs": [],
   "source": [
    "models = {\n",
    "    \"Random Forest\": RandomForestClassifier(),\n",
    "    \"Decision Tree\": DecisionTreeClassifier(),\n",
    "    \"Gradient Boosting\": GradientBoostingClassifier(),\n",
    "    \"Logistic Regression\": LogisticRegression(),\n",
    "     \"K-Neighbors Classifier\": KNeighborsClassifier(),\n",
    "    \"XGBClassifier\": XGBClassifier(), \n",
    "     #\"Support Vector Classifier\": SVC(),\n",
    "    #\"AdaBoost Classifier\": AdaBoostClassifier()\n",
    "}"
   ]
  },
  {
   "cell_type": "code",
   "execution_count": 71,
   "id": "14a99e7a",
   "metadata": {},
   "outputs": [
    {
     "data": {
      "text/html": [
       "<style>#sk-container-id-1 {color: black;background-color: white;}#sk-container-id-1 pre{padding: 0;}#sk-container-id-1 div.sk-toggleable {background-color: white;}#sk-container-id-1 label.sk-toggleable__label {cursor: pointer;display: block;width: 100%;margin-bottom: 0;padding: 0.3em;box-sizing: border-box;text-align: center;}#sk-container-id-1 label.sk-toggleable__label-arrow:before {content: \"▸\";float: left;margin-right: 0.25em;color: #696969;}#sk-container-id-1 label.sk-toggleable__label-arrow:hover:before {color: black;}#sk-container-id-1 div.sk-estimator:hover label.sk-toggleable__label-arrow:before {color: black;}#sk-container-id-1 div.sk-toggleable__content {max-height: 0;max-width: 0;overflow: hidden;text-align: left;background-color: #f0f8ff;}#sk-container-id-1 div.sk-toggleable__content pre {margin: 0.2em;color: black;border-radius: 0.25em;background-color: #f0f8ff;}#sk-container-id-1 input.sk-toggleable__control:checked~div.sk-toggleable__content {max-height: 200px;max-width: 100%;overflow: auto;}#sk-container-id-1 input.sk-toggleable__control:checked~label.sk-toggleable__label-arrow:before {content: \"▾\";}#sk-container-id-1 div.sk-estimator input.sk-toggleable__control:checked~label.sk-toggleable__label {background-color: #d4ebff;}#sk-container-id-1 div.sk-label input.sk-toggleable__control:checked~label.sk-toggleable__label {background-color: #d4ebff;}#sk-container-id-1 input.sk-hidden--visually {border: 0;clip: rect(1px 1px 1px 1px);clip: rect(1px, 1px, 1px, 1px);height: 1px;margin: -1px;overflow: hidden;padding: 0;position: absolute;width: 1px;}#sk-container-id-1 div.sk-estimator {font-family: monospace;background-color: #f0f8ff;border: 1px dotted black;border-radius: 0.25em;box-sizing: border-box;margin-bottom: 0.5em;}#sk-container-id-1 div.sk-estimator:hover {background-color: #d4ebff;}#sk-container-id-1 div.sk-parallel-item::after {content: \"\";width: 100%;border-bottom: 1px solid gray;flex-grow: 1;}#sk-container-id-1 div.sk-label:hover label.sk-toggleable__label {background-color: #d4ebff;}#sk-container-id-1 div.sk-serial::before {content: \"\";position: absolute;border-left: 1px solid gray;box-sizing: border-box;top: 0;bottom: 0;left: 50%;z-index: 0;}#sk-container-id-1 div.sk-serial {display: flex;flex-direction: column;align-items: center;background-color: white;padding-right: 0.2em;padding-left: 0.2em;position: relative;}#sk-container-id-1 div.sk-item {position: relative;z-index: 1;}#sk-container-id-1 div.sk-parallel {display: flex;align-items: stretch;justify-content: center;background-color: white;position: relative;}#sk-container-id-1 div.sk-item::before, #sk-container-id-1 div.sk-parallel-item::before {content: \"\";position: absolute;border-left: 1px solid gray;box-sizing: border-box;top: 0;bottom: 0;left: 50%;z-index: -1;}#sk-container-id-1 div.sk-parallel-item {display: flex;flex-direction: column;z-index: 1;position: relative;background-color: white;}#sk-container-id-1 div.sk-parallel-item:first-child::after {align-self: flex-end;width: 50%;}#sk-container-id-1 div.sk-parallel-item:last-child::after {align-self: flex-start;width: 50%;}#sk-container-id-1 div.sk-parallel-item:only-child::after {width: 0;}#sk-container-id-1 div.sk-dashed-wrapped {border: 1px dashed gray;margin: 0 0.4em 0.5em 0.4em;box-sizing: border-box;padding-bottom: 0.4em;background-color: white;}#sk-container-id-1 div.sk-label label {font-family: monospace;font-weight: bold;display: inline-block;line-height: 1.2em;}#sk-container-id-1 div.sk-label-container {text-align: center;}#sk-container-id-1 div.sk-container {/* jupyter's `normalize.less` sets `[hidden] { display: none; }` but bootstrap.min.css set `[hidden] { display: none !important; }` so we also need the `!important` here to be able to override the default hidden behavior on the sphinx rendered scikit-learn.org. See: https://github.com/scikit-learn/scikit-learn/issues/21755 */display: inline-block !important;position: relative;}#sk-container-id-1 div.sk-text-repr-fallback {display: none;}</style><div id=\"sk-container-id-1\" class=\"sk-top-container\"><div class=\"sk-text-repr-fallback\"><pre>DecisionTreeClassifier()</pre><b>In a Jupyter environment, please rerun this cell to show the HTML representation or trust the notebook. <br />On GitHub, the HTML representation is unable to render, please try loading this page with nbviewer.org.</b></div><div class=\"sk-container\" hidden><div class=\"sk-item\"><div class=\"sk-estimator sk-toggleable\"><input class=\"sk-toggleable__control sk-hidden--visually\" id=\"sk-estimator-id-1\" type=\"checkbox\" checked><label for=\"sk-estimator-id-1\" class=\"sk-toggleable__label sk-toggleable__label-arrow\">DecisionTreeClassifier</label><div class=\"sk-toggleable__content\"><pre>DecisionTreeClassifier()</pre></div></div></div></div></div>"
      ],
      "text/plain": [
       "DecisionTreeClassifier()"
      ]
     },
     "execution_count": 71,
     "metadata": {},
     "output_type": "execute_result"
    }
   ],
   "source": [
    "list(models.values())[1]"
   ]
  },
  {
   "cell_type": "code",
   "execution_count": 116,
   "id": "ffc4cf0d",
   "metadata": {},
   "outputs": [],
   "source": [
    "def train_evaluate_models(X_train,y_train,X_test,y_test,models):\n",
    "    \n",
    "    model_list = []\n",
    "    accuracy_list = []\n",
    "    \n",
    "    for i in range(len(list(models))):\n",
    "        model = list(models.values())[i]\n",
    "        model.fit(X_train,y_train)\n",
    "        \n",
    "        y_train_predicted = model.predict(X_train)\n",
    "        y_test_predicted = model.predict(X_test)\n",
    "        \n",
    "        # Training set performance\n",
    "        model_train_accuracy, model_train_f1, model_train_precision, model_train_recall = evaluation(y_train,y_train_predicted)\n",
    "        \n",
    "        # Test set performance\n",
    "        model_test_accuracy, model_test_f1, model_test_precision, model_test_recall = evaluation(y_test,y_test_predicted)\n",
    "        \n",
    "        \n",
    "        print(list(models.keys())[i])\n",
    "        model_list.append(list(models.keys())[i])\n",
    "        \n",
    "        print('Model performance for Training set')\n",
    "        print(\"- Accuracy: {:.4f}\".format(model_train_accuracy))\n",
    "        print('- F1 score: {:.4f}'.format(model_train_f1)) \n",
    "        print('- Precision: {:.4f}'.format(model_train_precision))\n",
    "        print('- Recall: {:.4f}'.format(model_train_recall))\n",
    "\n",
    "        print('----------------------------------')\n",
    "\n",
    "        print('Model performance for Test set')\n",
    "        print('- Accuracy: {:.4f}'.format(model_test_accuracy))\n",
    "        accuracy_list.append(model_test_accuracy)\n",
    "        print('- F1 score: {:.4f}'.format(model_test_f1))\n",
    "        print('- Precision: {:.4f}'.format(model_test_precision))\n",
    "        print('- Recall: {:.4f}'.format(model_test_recall))\n",
    "        \n",
    "        print('='*35)\n",
    "        print('\\n')\n",
    "        \n",
    "    report = pd.DataFrame(list(zip(model_list,accuracy_list)),columns = ['Model name','Accuracy']).sort_values(by=['Accuracy'],ascending=False)\n",
    "    return report\n",
    "        \n",
    "\n",
    "        \n",
    "        "
   ]
  },
  {
   "cell_type": "code",
   "execution_count": 118,
   "id": "d775cc02",
   "metadata": {},
   "outputs": [
    {
     "name": "stdout",
     "output_type": "stream",
     "text": [
      "Random Forest\n",
      "Model performance for Training set\n",
      "- Accuracy: 1.0000\n",
      "- F1 score: 1.0000\n",
      "- Precision: 1.0000\n",
      "- Recall: 1.0000\n",
      "----------------------------------\n",
      "Model performance for Test set\n",
      "- Accuracy: 0.8728\n",
      "- F1 score: 0.1062\n",
      "- Precision: 0.0961\n",
      "- Recall: 0.1187\n",
      "===================================\n",
      "\n",
      "\n",
      "Decision Tree\n",
      "Model performance for Training set\n",
      "- Accuracy: 1.0000\n",
      "- F1 score: 1.0000\n",
      "- Precision: 1.0000\n",
      "- Recall: 1.0000\n",
      "----------------------------------\n",
      "Model performance for Test set\n",
      "- Accuracy: 0.8591\n",
      "- F1 score: 0.1029\n",
      "- Precision: 0.0865\n",
      "- Recall: 0.1269\n",
      "===================================\n",
      "\n",
      "\n",
      "Gradient Boosting\n",
      "Model performance for Training set\n",
      "- Accuracy: 0.8220\n",
      "- F1 score: 0.8224\n",
      "- Precision: 0.8205\n",
      "- Recall: 0.8243\n",
      "----------------------------------\n",
      "Model performance for Test set\n",
      "- Accuracy: 0.7847\n",
      "- F1 score: 0.1473\n",
      "- Precision: 0.0985\n",
      "- Recall: 0.2920\n",
      "===================================\n",
      "\n",
      "\n",
      "Logistic Regression\n",
      "Model performance for Training set\n",
      "- Accuracy: 0.5899\n",
      "- F1 score: 0.6005\n",
      "- Precision: 0.5853\n",
      "- Recall: 0.6166\n",
      "----------------------------------\n",
      "Model performance for Test set\n",
      "- Accuracy: 0.5620\n",
      "- F1 score: 0.1518\n",
      "- Precision: 0.0866\n",
      "- Recall: 0.6153\n",
      "===================================\n",
      "\n",
      "\n",
      "K-Neighbors Classifier\n",
      "Model performance for Training set\n",
      "- Accuracy: 0.8987\n",
      "- F1 score: 0.9061\n",
      "- Precision: 0.8445\n",
      "- Recall: 0.9775\n",
      "----------------------------------\n",
      "Model performance for Test set\n",
      "- Accuracy: 0.7228\n",
      "- F1 score: 0.1308\n",
      "- Precision: 0.0817\n",
      "- Recall: 0.3274\n",
      "===================================\n",
      "\n",
      "\n",
      "XGBClassifier\n",
      "Model performance for Training set\n",
      "- Accuracy: 0.9274\n",
      "- F1 score: 0.9233\n",
      "- Precision: 0.9786\n",
      "- Recall: 0.8739\n",
      "----------------------------------\n",
      "Model performance for Test set\n",
      "- Accuracy: 0.9175\n",
      "- F1 score: 0.0795\n",
      "- Precision: 0.1376\n",
      "- Recall: 0.0559\n",
      "===================================\n",
      "\n",
      "\n"
     ]
    }
   ],
   "source": [
    "base_model_report = train_evaluate_models(X_train=X_res,y_train=y_res,X_test=X_test_transformed,y_test=y_test,models=models)"
   ]
  },
  {
   "cell_type": "code",
   "execution_count": null,
   "id": "938d5cbe",
   "metadata": {},
   "outputs": [],
   "source": [
    "base_model_report"
   ]
  },
  {
   "cell_type": "code",
   "execution_count": 121,
   "id": "bc3bdcbf",
   "metadata": {},
   "outputs": [
    {
     "name": "stdout",
     "output_type": "stream",
     "text": [
      "Model performance for Training set\n",
      "- Accuracy: 0.5101\n",
      "- F1 score: 0.6712\n",
      "- Precision: 0.5051\n",
      "- Recall: 1.0000\n",
      "----------------------------------\n",
      "Model performance for Test set\n",
      "- Accuracy: 0.0787\n",
      "- F1 score: 0.1213\n",
      "- Precision: 0.0646\n",
      "- Recall: 0.9986\n"
     ]
    }
   ],
   "source": [
    "from sklearn.utils.class_weight import compute_class_weight\n",
    "\n",
    "# Compute class weights to handle imbalanced classes (optional)\n",
    "class_weights = compute_class_weight('balanced', classes=[0, 1], y=y_train)\n",
    "class_weight_dict = dict(zip([0, 1], class_weights))\n",
    "\n",
    "model = RandomForestClassifier(\n",
    "    n_estimators=100,            # Number of trees\n",
    "    max_depth=10,                # Maximum depth of the tree to prevent overfitting\n",
    "    min_samples_split=10,        # Minimum samples required to split a node\n",
    "    min_samples_leaf=5,          # Minimum samples required at leaf node\n",
    "    max_features='sqrt',         # Limit the number of features used in each split\n",
    "    class_weight=class_weight_dict,  # Class weights to handle class imbalance\n",
    "    random_state=42\n",
    ")\n",
    "model.fit(X_res,y_res)\n",
    "        \n",
    "y_train_predicted = model.predict(X_res)\n",
    "y_test_predicted = model.predict(X_test_transformed)\n",
    "        \n",
    "        # Training set performance\n",
    "model_train_accuracy, model_train_f1, model_train_precision, model_train_recall = evaluation(y_res,y_train_predicted)\n",
    "        \n",
    "        # Test set performance\n",
    "model_test_accuracy, model_test_f1, model_test_precision, model_test_recall = evaluation(y_test,y_test_predicted)\n",
    "        \n",
    "        \n",
    "print('Model performance for Training set')\n",
    "print(\"- Accuracy: {:.4f}\".format(model_train_accuracy))       \n",
    "print('- F1 score: {:.4f}'.format(model_train_f1)) \n",
    "print('- Precision: {:.4f}'.format(model_train_precision))\n",
    "print('- Recall: {:.4f}'.format(model_train_recall))\n",
    "\n",
    "print('----------------------------------')\n",
    "\n",
    "print('Model performance for Test set')\n",
    "print('- Accuracy: {:.4f}'.format(model_test_accuracy))\n",
    "print('- F1 score: {:.4f}'.format(model_test_f1))\n",
    "print('- Precision: {:.4f}'.format(model_test_precision))\n",
    "print('- Recall: {:.4f}'.format(model_test_recall))"
   ]
  },
  {
   "cell_type": "code",
   "execution_count": 66,
   "id": "521595e4",
   "metadata": {},
   "outputs": [
    {
     "data": {
      "text/plain": [
       "array([[4.76190476e-02, 1.53846154e-01, 7.17951556e-01, ...,\n",
       "        0.00000000e+00, 0.00000000e+00, 0.00000000e+00],\n",
       "       [1.90476190e-01, 5.00000000e-01, 3.11345990e-01, ...,\n",
       "        0.00000000e+00, 1.00000000e+00, 0.00000000e+00],\n",
       "       [5.71428571e-01, 3.84615385e-01, 8.74386258e-01, ...,\n",
       "        1.00000000e+00, 2.00000000e+01, 4.00000000e+00],\n",
       "       ...,\n",
       "       [4.76190476e-02, 1.92307692e-02, 9.29295217e-02, ...,\n",
       "        0.00000000e+00, 1.00000000e+00, 0.00000000e+00],\n",
       "       [4.76190476e-02, 3.26923077e-01, 7.20614666e-01, ...,\n",
       "        0.00000000e+00, 5.00000000e+00, 0.00000000e+00],\n",
       "       [1.90476190e-01, 0.00000000e+00, 2.08342676e-01, ...,\n",
       "        5.00000000e+00, 2.00000000e+01, 7.00000000e+00]])"
      ]
     },
     "execution_count": 66,
     "metadata": {},
     "output_type": "execute_result"
    }
   ],
   "source": [
    "X_test_transformed"
   ]
  },
  {
   "cell_type": "code",
   "execution_count": 114,
   "id": "5e4494e3",
   "metadata": {},
   "outputs": [
    {
     "name": "stdout",
     "output_type": "stream",
     "text": [
      "Model performance for Training set\n",
      "- Accuracy: 0.8349\n",
      "- F1 score: 0.8244\n",
      "- Precision: 0.8802\n",
      "- Recall: 0.7753\n",
      "----------------------------------\n",
      "Model performance for Test set\n",
      "- Accuracy: 0.8468\n",
      "- F1 score: 0.1487\n",
      "- Precision: 0.1151\n",
      "- Recall: 0.2101\n"
     ]
    }
   ],
   "source": [
    "model = XGBClassifier(n_estimators=100,eval_metric=\"logloss\", random_state=42, max_depth = 2, alpha = 10)\n",
    "model.fit(X_res,y_res)\n",
    "        \n",
    "y_train_predicted = model.predict(X_res)\n",
    "y_test_predicted = model.predict(X_test_transformed)\n",
    "        \n",
    "        # Training set performance\n",
    "model_train_accuracy, model_train_f1, model_train_precision, model_train_recall = evaluation(y_res,y_train_predicted)\n",
    "        \n",
    "        # Test set performance\n",
    "model_test_accuracy, model_test_f1, model_test_precision, model_test_recall = evaluation(y_test,y_test_predicted)\n",
    "        \n",
    "        \n",
    "print('Model performance for Training set')\n",
    "print(\"- Accuracy: {:.4f}\".format(model_train_accuracy))       \n",
    "print('- F1 score: {:.4f}'.format(model_train_f1)) \n",
    "print('- Precision: {:.4f}'.format(model_train_precision))\n",
    "print('- Recall: {:.4f}'.format(model_train_recall))\n",
    "\n",
    "print('----------------------------------')\n",
    "\n",
    "print('Model performance for Test set')\n",
    "print('- Accuracy: {:.4f}'.format(model_test_accuracy))\n",
    "print('- F1 score: {:.4f}'.format(model_test_f1))\n",
    "print('- Precision: {:.4f}'.format(model_test_precision))\n",
    "print('- Recall: {:.4f}'.format(model_test_recall))"
   ]
  },
  {
   "cell_type": "code",
   "execution_count": 103,
   "id": "2f62131f",
   "metadata": {},
   "outputs": [],
   "source": [
    "model_xgb = XGBClassifier(n_estimators=500, random_state=42)"
   ]
  },
  {
   "cell_type": "code",
   "execution_count": 104,
   "id": "2c2f9756",
   "metadata": {},
   "outputs": [
    {
     "data": {
      "text/html": [
       "<style>#sk-container-id-3 {color: black;background-color: white;}#sk-container-id-3 pre{padding: 0;}#sk-container-id-3 div.sk-toggleable {background-color: white;}#sk-container-id-3 label.sk-toggleable__label {cursor: pointer;display: block;width: 100%;margin-bottom: 0;padding: 0.3em;box-sizing: border-box;text-align: center;}#sk-container-id-3 label.sk-toggleable__label-arrow:before {content: \"▸\";float: left;margin-right: 0.25em;color: #696969;}#sk-container-id-3 label.sk-toggleable__label-arrow:hover:before {color: black;}#sk-container-id-3 div.sk-estimator:hover label.sk-toggleable__label-arrow:before {color: black;}#sk-container-id-3 div.sk-toggleable__content {max-height: 0;max-width: 0;overflow: hidden;text-align: left;background-color: #f0f8ff;}#sk-container-id-3 div.sk-toggleable__content pre {margin: 0.2em;color: black;border-radius: 0.25em;background-color: #f0f8ff;}#sk-container-id-3 input.sk-toggleable__control:checked~div.sk-toggleable__content {max-height: 200px;max-width: 100%;overflow: auto;}#sk-container-id-3 input.sk-toggleable__control:checked~label.sk-toggleable__label-arrow:before {content: \"▾\";}#sk-container-id-3 div.sk-estimator input.sk-toggleable__control:checked~label.sk-toggleable__label {background-color: #d4ebff;}#sk-container-id-3 div.sk-label input.sk-toggleable__control:checked~label.sk-toggleable__label {background-color: #d4ebff;}#sk-container-id-3 input.sk-hidden--visually {border: 0;clip: rect(1px 1px 1px 1px);clip: rect(1px, 1px, 1px, 1px);height: 1px;margin: -1px;overflow: hidden;padding: 0;position: absolute;width: 1px;}#sk-container-id-3 div.sk-estimator {font-family: monospace;background-color: #f0f8ff;border: 1px dotted black;border-radius: 0.25em;box-sizing: border-box;margin-bottom: 0.5em;}#sk-container-id-3 div.sk-estimator:hover {background-color: #d4ebff;}#sk-container-id-3 div.sk-parallel-item::after {content: \"\";width: 100%;border-bottom: 1px solid gray;flex-grow: 1;}#sk-container-id-3 div.sk-label:hover label.sk-toggleable__label {background-color: #d4ebff;}#sk-container-id-3 div.sk-serial::before {content: \"\";position: absolute;border-left: 1px solid gray;box-sizing: border-box;top: 0;bottom: 0;left: 50%;z-index: 0;}#sk-container-id-3 div.sk-serial {display: flex;flex-direction: column;align-items: center;background-color: white;padding-right: 0.2em;padding-left: 0.2em;position: relative;}#sk-container-id-3 div.sk-item {position: relative;z-index: 1;}#sk-container-id-3 div.sk-parallel {display: flex;align-items: stretch;justify-content: center;background-color: white;position: relative;}#sk-container-id-3 div.sk-item::before, #sk-container-id-3 div.sk-parallel-item::before {content: \"\";position: absolute;border-left: 1px solid gray;box-sizing: border-box;top: 0;bottom: 0;left: 50%;z-index: -1;}#sk-container-id-3 div.sk-parallel-item {display: flex;flex-direction: column;z-index: 1;position: relative;background-color: white;}#sk-container-id-3 div.sk-parallel-item:first-child::after {align-self: flex-end;width: 50%;}#sk-container-id-3 div.sk-parallel-item:last-child::after {align-self: flex-start;width: 50%;}#sk-container-id-3 div.sk-parallel-item:only-child::after {width: 0;}#sk-container-id-3 div.sk-dashed-wrapped {border: 1px dashed gray;margin: 0 0.4em 0.5em 0.4em;box-sizing: border-box;padding-bottom: 0.4em;background-color: white;}#sk-container-id-3 div.sk-label label {font-family: monospace;font-weight: bold;display: inline-block;line-height: 1.2em;}#sk-container-id-3 div.sk-label-container {text-align: center;}#sk-container-id-3 div.sk-container {/* jupyter's `normalize.less` sets `[hidden] { display: none; }` but bootstrap.min.css set `[hidden] { display: none !important; }` so we also need the `!important` here to be able to override the default hidden behavior on the sphinx rendered scikit-learn.org. See: https://github.com/scikit-learn/scikit-learn/issues/21755 */display: inline-block !important;position: relative;}#sk-container-id-3 div.sk-text-repr-fallback {display: none;}</style><div id=\"sk-container-id-3\" class=\"sk-top-container\"><div class=\"sk-text-repr-fallback\"><pre>XGBClassifier(base_score=None, booster=None, callbacks=None,\n",
       "              colsample_bylevel=None, colsample_bynode=None,\n",
       "              colsample_bytree=None, device=None, early_stopping_rounds=None,\n",
       "              enable_categorical=False, eval_metric=None, feature_types=None,\n",
       "              gamma=None, grow_policy=None, importance_type=None,\n",
       "              interaction_constraints=None, learning_rate=None, max_bin=None,\n",
       "              max_cat_threshold=None, max_cat_to_onehot=None,\n",
       "              max_delta_step=None, max_depth=None, max_leaves=None,\n",
       "              min_child_weight=None, missing=nan, monotone_constraints=None,\n",
       "              multi_strategy=None, n_estimators=500, n_jobs=None,\n",
       "              num_parallel_tree=None, random_state=42, ...)</pre><b>In a Jupyter environment, please rerun this cell to show the HTML representation or trust the notebook. <br />On GitHub, the HTML representation is unable to render, please try loading this page with nbviewer.org.</b></div><div class=\"sk-container\" hidden><div class=\"sk-item\"><div class=\"sk-estimator sk-toggleable\"><input class=\"sk-toggleable__control sk-hidden--visually\" id=\"sk-estimator-id-3\" type=\"checkbox\" checked><label for=\"sk-estimator-id-3\" class=\"sk-toggleable__label sk-toggleable__label-arrow\">XGBClassifier</label><div class=\"sk-toggleable__content\"><pre>XGBClassifier(base_score=None, booster=None, callbacks=None,\n",
       "              colsample_bylevel=None, colsample_bynode=None,\n",
       "              colsample_bytree=None, device=None, early_stopping_rounds=None,\n",
       "              enable_categorical=False, eval_metric=None, feature_types=None,\n",
       "              gamma=None, grow_policy=None, importance_type=None,\n",
       "              interaction_constraints=None, learning_rate=None, max_bin=None,\n",
       "              max_cat_threshold=None, max_cat_to_onehot=None,\n",
       "              max_delta_step=None, max_depth=None, max_leaves=None,\n",
       "              min_child_weight=None, missing=nan, monotone_constraints=None,\n",
       "              multi_strategy=None, n_estimators=500, n_jobs=None,\n",
       "              num_parallel_tree=None, random_state=42, ...)</pre></div></div></div></div></div>"
      ],
      "text/plain": [
       "XGBClassifier(base_score=None, booster=None, callbacks=None,\n",
       "              colsample_bylevel=None, colsample_bynode=None,\n",
       "              colsample_bytree=None, device=None, early_stopping_rounds=None,\n",
       "              enable_categorical=False, eval_metric=None, feature_types=None,\n",
       "              gamma=None, grow_policy=None, importance_type=None,\n",
       "              interaction_constraints=None, learning_rate=None, max_bin=None,\n",
       "              max_cat_threshold=None, max_cat_to_onehot=None,\n",
       "              max_delta_step=None, max_depth=None, max_leaves=None,\n",
       "              min_child_weight=None, missing=nan, monotone_constraints=None,\n",
       "              multi_strategy=None, n_estimators=500, n_jobs=None,\n",
       "              num_parallel_tree=None, random_state=42, ...)"
      ]
     },
     "execution_count": 104,
     "metadata": {},
     "output_type": "execute_result"
    }
   ],
   "source": [
    "model_xgb.fit(X_res, y_res)"
   ]
  },
  {
   "cell_type": "code",
   "execution_count": 105,
   "id": "111c7247",
   "metadata": {},
   "outputs": [],
   "source": [
    "preds = model_xgb.predict(X_test_transformed)"
   ]
  },
  {
   "cell_type": "code",
   "execution_count": 77,
   "id": "8912db69",
   "metadata": {},
   "outputs": [],
   "source": [
    "from sklearn.metrics import classification_report, accuracy_score, ConfusionMatrixDisplay, PrecisionRecallDisplay\n",
    "from sklearn.metrics import RocCurveDisplay"
   ]
  },
  {
   "cell_type": "code",
   "execution_count": 106,
   "id": "944c45fa",
   "metadata": {},
   "outputs": [
    {
     "name": "stdout",
     "output_type": "stream",
     "text": [
      "              precision    recall  f1-score   support\n",
      "\n",
      "           0       0.94      0.98      0.96     10777\n",
      "           1       0.10      0.04      0.06       733\n",
      "\n",
      "    accuracy                           0.92     11510\n",
      "   macro avg       0.52      0.51      0.51     11510\n",
      "weighted avg       0.88      0.92      0.90     11510\n",
      "\n"
     ]
    }
   ],
   "source": [
    "print(classification_report(y_test, preds))"
   ]
  },
  {
   "cell_type": "code",
   "execution_count": 107,
   "id": "019cd643",
   "metadata": {},
   "outputs": [
    {
     "data": {
      "text/plain": [
       "<sklearn.metrics._plot.confusion_matrix.ConfusionMatrixDisplay at 0x2b20ec8d7d0>"
      ]
     },
     "execution_count": 107,
     "metadata": {},
     "output_type": "execute_result"
    },
    {
     "data": {
      "image/png": "[encoded data removed]",
      "text/plain": [
       "<Figure size 640x480 with 2 Axes>"
      ]
     },
     "metadata": {},
     "output_type": "display_data"
    }
   ],
   "source": [
    "ConfusionMatrixDisplay.from_predictions(y_test, preds, normalize='true')"
   ]
  },
  {
   "cell_type": "code",
   "execution_count": null,
   "id": "c0b6b279",
   "metadata": {},
   "outputs": [],
   "source": []
  },
  {
   "cell_type": "code",
   "execution_count": null,
   "id": "1906036f",
   "metadata": {},
   "outputs": [],
   "source": []
  },
  {
   "cell_type": "code",
   "execution_count": null,
   "id": "31df9a84",
   "metadata": {},
   "outputs": [],
   "source": []
  }
 ],
 "metadata": {
  "kernelspec": {
   "display_name": "Python 3 (ipykernel)",
   "language": "python",
   "name": "python3"
  },
  "language_info": {
   "codemirror_mode": {
    "name": "ipython",
    "version": 3
   },
   "file_extension": ".py",
   "mimetype": "text/x-python",
   "name": "python",
   "nbconvert_exporter": "python",
   "pygments_lexer": "ipython3",
   "version": "3.11.7"
  }
 },
 "nbformat": 4,
 "nbformat_minor": 5
}
