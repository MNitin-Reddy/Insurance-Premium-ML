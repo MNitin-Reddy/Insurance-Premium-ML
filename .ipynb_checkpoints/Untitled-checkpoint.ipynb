{
 "cells": [
  {
   "cell_type": "markdown",
   "id": "144dba80",
   "metadata": {},
   "source": [
    "# INSURANCE CLAIM PROBABILITY BASED ON  POLICY FEATURES AND SAFETY RATINGS"
   ]
  },
  {
   "cell_type": "markdown",
   "id": "3860255d",
   "metadata": {},
   "source": [
    "## Problem Statement\n",
    "Insurance companies face the challenge of accurately predicting the likelihood of claims on car insurance policies. With a variety of factors influencing claim frequency and severity, it is difficult to assess risk and determine appropriate premiums for policyholders. The problem arises from the complexity and variety of data involved, including demographic details, vehicle specifications, and past claim histories. Inaccurate predictions can lead to suboptimal premium pricing, financial loss, and inefficient claim management.\n",
    "\n",
    "The goal of this project is to develop a predictive model that analyzes this complex dataset to predict whether a car insurance claim will occur within a six-month period. The expected output is a model capable of accurately classifying policies into two categories: those likely to file a claim and those unlikely to do so. The model will provide actionable insights into the factors that contribute to the likelihood of claims."
   ]
  },
  {
   "cell_type": "code",
   "execution_count": 1,
   "id": "d7978c72",
   "metadata": {},
   "outputs": [],
   "source": [
    "# Importing required packages \n",
    "import numpy as np\n",
    "import pandas as pd\n",
    "import matplotlib.pyplot as plt\n",
    "import seaborn as sns"
   ]
  },
  {
   "cell_type": "code",
   "execution_count": 73,
   "id": "1a7a4b90",
   "metadata": {},
   "outputs": [],
   "source": [
    "import warnings\n",
    "warnings.filterwarnings('ignore')"
   ]
  },
  {
   "cell_type": "markdown",
   "id": "f3c14524",
   "metadata": {},
   "source": [
    "## Data Overview"
   ]
  },
  {
   "cell_type": "code",
   "execution_count": 150,
   "id": "8cf40a02",
   "metadata": {},
   "outputs": [
    {
     "data": {
      "text/plain": [
       "(58592, 44)"
      ]
     },
     "execution_count": 150,
     "metadata": {},
     "output_type": "execute_result"
    }
   ],
   "source": [
    "# importing data using pandas\n",
    "data = pd.read_csv(r'data/Data.csv')\n",
    "data.shape"
   ]
  },
  {
   "cell_type": "markdown",
   "id": "a1ccaaa6",
   "metadata": {},
   "source": [
    "### a. Column names and Datatypes"
   ]
  },
  {
   "cell_type": "code",
   "execution_count": 6,
   "id": "f7d880dc",
   "metadata": {},
   "outputs": [
    {
     "name": "stdout",
     "output_type": "stream",
     "text": [
      "<class 'pandas.core.frame.DataFrame'>\n",
      "RangeIndex: 58592 entries, 0 to 58591\n",
      "Data columns (total 44 columns):\n",
      " #   Column                            Non-Null Count  Dtype  \n",
      "---  ------                            --------------  -----  \n",
      " 0   policy_id                         58592 non-null  object \n",
      " 1   policy_tenure                     58592 non-null  float64\n",
      " 2   age_of_car                        58592 non-null  float64\n",
      " 3   age_of_policyholder               58592 non-null  float64\n",
      " 4   area_cluster                      58592 non-null  object \n",
      " 5   population_density                58592 non-null  int64  \n",
      " 6   make                              58592 non-null  int64  \n",
      " 7   segment                           58592 non-null  object \n",
      " 8   model                             58592 non-null  object \n",
      " 9   fuel_type                         58592 non-null  object \n",
      " 10  max_torque                        58592 non-null  object \n",
      " 11  max_power                         58592 non-null  object \n",
      " 12  engine_type                       58592 non-null  object \n",
      " 13  airbags                           58592 non-null  int64  \n",
      " 14  is_esc                            58592 non-null  object \n",
      " 15  is_adjustable_steering            58592 non-null  object \n",
      " 16  is_tpms                           58592 non-null  object \n",
      " 17  is_parking_sensors                58592 non-null  object \n",
      " 18  is_parking_camera                 58592 non-null  object \n",
      " 19  rear_brakes_type                  58592 non-null  object \n",
      " 20  displacement                      58592 non-null  int64  \n",
      " 21  cylinder                          58592 non-null  int64  \n",
      " 22  transmission_type                 58592 non-null  object \n",
      " 23  gear_box                          58592 non-null  int64  \n",
      " 24  steering_type                     58592 non-null  object \n",
      " 25  turning_radius                    58592 non-null  float64\n",
      " 26  length                            58592 non-null  int64  \n",
      " 27  width                             58592 non-null  int64  \n",
      " 28  height                            58592 non-null  int64  \n",
      " 29  gross_weight                      58592 non-null  int64  \n",
      " 30  is_front_fog_lights               58592 non-null  object \n",
      " 31  is_rear_window_wiper              58592 non-null  object \n",
      " 32  is_rear_window_washer             58592 non-null  object \n",
      " 33  is_rear_window_defogger           58592 non-null  object \n",
      " 34  is_brake_assist                   58592 non-null  object \n",
      " 35  is_power_door_locks               58592 non-null  object \n",
      " 36  is_central_locking                58592 non-null  object \n",
      " 37  is_power_steering                 58592 non-null  object \n",
      " 38  is_driver_seat_height_adjustable  58592 non-null  object \n",
      " 39  is_day_night_rear_view_mirror     58592 non-null  object \n",
      " 40  is_ecw                            58592 non-null  object \n",
      " 41  is_speed_alert                    58592 non-null  object \n",
      " 42  ncap_rating                       58592 non-null  int64  \n",
      " 43  is_claim                          58592 non-null  int64  \n",
      "dtypes: float64(4), int64(12), object(28)\n",
      "memory usage: 19.7+ MB\n"
     ]
    }
   ],
   "source": [
    "data.info()"
   ]
  },
  {
   "cell_type": "code",
   "execution_count": 8,
   "id": "83a785a2",
   "metadata": {},
   "outputs": [
    {
     "data": {
      "text/html": [
       "<div>\n",
       "<style scoped>\n",
       "    .dataframe tbody tr th:only-of-type {\n",
       "        vertical-align: middle;\n",
       "    }\n",
       "\n",
       "    .dataframe tbody tr th {\n",
       "        vertical-align: top;\n",
       "    }\n",
       "\n",
       "    .dataframe thead th {\n",
       "        text-align: right;\n",
       "    }\n",
       "</style>\n",
       "<table border=\"1\" class=\"dataframe\">\n",
       "  <thead>\n",
       "    <tr style=\"text-align: right;\">\n",
       "      <th></th>\n",
       "      <th>policy_id</th>\n",
       "      <th>policy_tenure</th>\n",
       "      <th>age_of_car</th>\n",
       "      <th>age_of_policyholder</th>\n",
       "      <th>area_cluster</th>\n",
       "      <th>population_density</th>\n",
       "      <th>make</th>\n",
       "      <th>segment</th>\n",
       "      <th>model</th>\n",
       "      <th>fuel_type</th>\n",
       "      <th>...</th>\n",
       "      <th>is_brake_assist</th>\n",
       "      <th>is_power_door_locks</th>\n",
       "      <th>is_central_locking</th>\n",
       "      <th>is_power_steering</th>\n",
       "      <th>is_driver_seat_height_adjustable</th>\n",
       "      <th>is_day_night_rear_view_mirror</th>\n",
       "      <th>is_ecw</th>\n",
       "      <th>is_speed_alert</th>\n",
       "      <th>ncap_rating</th>\n",
       "      <th>is_claim</th>\n",
       "    </tr>\n",
       "  </thead>\n",
       "  <tbody>\n",
       "    <tr>\n",
       "      <th>0</th>\n",
       "      <td>ID00001</td>\n",
       "      <td>0.515874</td>\n",
       "      <td>0.05</td>\n",
       "      <td>0.644231</td>\n",
       "      <td>C1</td>\n",
       "      <td>4990</td>\n",
       "      <td>1</td>\n",
       "      <td>A</td>\n",
       "      <td>M1</td>\n",
       "      <td>CNG</td>\n",
       "      <td>...</td>\n",
       "      <td>No</td>\n",
       "      <td>No</td>\n",
       "      <td>No</td>\n",
       "      <td>Yes</td>\n",
       "      <td>No</td>\n",
       "      <td>No</td>\n",
       "      <td>No</td>\n",
       "      <td>Yes</td>\n",
       "      <td>0</td>\n",
       "      <td>0</td>\n",
       "    </tr>\n",
       "    <tr>\n",
       "      <th>1</th>\n",
       "      <td>ID00002</td>\n",
       "      <td>0.672619</td>\n",
       "      <td>0.02</td>\n",
       "      <td>0.375000</td>\n",
       "      <td>C2</td>\n",
       "      <td>27003</td>\n",
       "      <td>1</td>\n",
       "      <td>A</td>\n",
       "      <td>M1</td>\n",
       "      <td>CNG</td>\n",
       "      <td>...</td>\n",
       "      <td>No</td>\n",
       "      <td>No</td>\n",
       "      <td>No</td>\n",
       "      <td>Yes</td>\n",
       "      <td>No</td>\n",
       "      <td>No</td>\n",
       "      <td>No</td>\n",
       "      <td>Yes</td>\n",
       "      <td>0</td>\n",
       "      <td>0</td>\n",
       "    </tr>\n",
       "    <tr>\n",
       "      <th>2</th>\n",
       "      <td>ID00003</td>\n",
       "      <td>0.841110</td>\n",
       "      <td>0.02</td>\n",
       "      <td>0.384615</td>\n",
       "      <td>C3</td>\n",
       "      <td>4076</td>\n",
       "      <td>1</td>\n",
       "      <td>A</td>\n",
       "      <td>M1</td>\n",
       "      <td>CNG</td>\n",
       "      <td>...</td>\n",
       "      <td>No</td>\n",
       "      <td>No</td>\n",
       "      <td>No</td>\n",
       "      <td>Yes</td>\n",
       "      <td>No</td>\n",
       "      <td>No</td>\n",
       "      <td>No</td>\n",
       "      <td>Yes</td>\n",
       "      <td>0</td>\n",
       "      <td>0</td>\n",
       "    </tr>\n",
       "    <tr>\n",
       "      <th>3</th>\n",
       "      <td>ID00004</td>\n",
       "      <td>0.900277</td>\n",
       "      <td>0.11</td>\n",
       "      <td>0.432692</td>\n",
       "      <td>C4</td>\n",
       "      <td>21622</td>\n",
       "      <td>1</td>\n",
       "      <td>C1</td>\n",
       "      <td>M2</td>\n",
       "      <td>Petrol</td>\n",
       "      <td>...</td>\n",
       "      <td>Yes</td>\n",
       "      <td>Yes</td>\n",
       "      <td>Yes</td>\n",
       "      <td>Yes</td>\n",
       "      <td>Yes</td>\n",
       "      <td>Yes</td>\n",
       "      <td>Yes</td>\n",
       "      <td>Yes</td>\n",
       "      <td>2</td>\n",
       "      <td>0</td>\n",
       "    </tr>\n",
       "    <tr>\n",
       "      <th>4</th>\n",
       "      <td>ID00005</td>\n",
       "      <td>0.596403</td>\n",
       "      <td>0.11</td>\n",
       "      <td>0.634615</td>\n",
       "      <td>C5</td>\n",
       "      <td>34738</td>\n",
       "      <td>2</td>\n",
       "      <td>A</td>\n",
       "      <td>M3</td>\n",
       "      <td>Petrol</td>\n",
       "      <td>...</td>\n",
       "      <td>No</td>\n",
       "      <td>Yes</td>\n",
       "      <td>Yes</td>\n",
       "      <td>Yes</td>\n",
       "      <td>No</td>\n",
       "      <td>Yes</td>\n",
       "      <td>Yes</td>\n",
       "      <td>Yes</td>\n",
       "      <td>2</td>\n",
       "      <td>0</td>\n",
       "    </tr>\n",
       "    <tr>\n",
       "      <th>5</th>\n",
       "      <td>ID00006</td>\n",
       "      <td>1.018709</td>\n",
       "      <td>0.07</td>\n",
       "      <td>0.519231</td>\n",
       "      <td>C6</td>\n",
       "      <td>13051</td>\n",
       "      <td>3</td>\n",
       "      <td>C2</td>\n",
       "      <td>M4</td>\n",
       "      <td>Diesel</td>\n",
       "      <td>...</td>\n",
       "      <td>Yes</td>\n",
       "      <td>Yes</td>\n",
       "      <td>Yes</td>\n",
       "      <td>Yes</td>\n",
       "      <td>Yes</td>\n",
       "      <td>No</td>\n",
       "      <td>Yes</td>\n",
       "      <td>Yes</td>\n",
       "      <td>3</td>\n",
       "      <td>0</td>\n",
       "    </tr>\n",
       "    <tr>\n",
       "      <th>6</th>\n",
       "      <td>ID00007</td>\n",
       "      <td>0.097992</td>\n",
       "      <td>0.16</td>\n",
       "      <td>0.403846</td>\n",
       "      <td>C7</td>\n",
       "      <td>6112</td>\n",
       "      <td>4</td>\n",
       "      <td>B2</td>\n",
       "      <td>M5</td>\n",
       "      <td>Diesel</td>\n",
       "      <td>...</td>\n",
       "      <td>No</td>\n",
       "      <td>Yes</td>\n",
       "      <td>Yes</td>\n",
       "      <td>Yes</td>\n",
       "      <td>No</td>\n",
       "      <td>No</td>\n",
       "      <td>Yes</td>\n",
       "      <td>Yes</td>\n",
       "      <td>5</td>\n",
       "      <td>0</td>\n",
       "    </tr>\n",
       "    <tr>\n",
       "      <th>7</th>\n",
       "      <td>ID00008</td>\n",
       "      <td>0.509085</td>\n",
       "      <td>0.14</td>\n",
       "      <td>0.423077</td>\n",
       "      <td>C8</td>\n",
       "      <td>8794</td>\n",
       "      <td>1</td>\n",
       "      <td>B2</td>\n",
       "      <td>M6</td>\n",
       "      <td>Petrol</td>\n",
       "      <td>...</td>\n",
       "      <td>Yes</td>\n",
       "      <td>Yes</td>\n",
       "      <td>Yes</td>\n",
       "      <td>Yes</td>\n",
       "      <td>Yes</td>\n",
       "      <td>Yes</td>\n",
       "      <td>Yes</td>\n",
       "      <td>Yes</td>\n",
       "      <td>2</td>\n",
       "      <td>0</td>\n",
       "    </tr>\n",
       "    <tr>\n",
       "      <th>8</th>\n",
       "      <td>ID00009</td>\n",
       "      <td>0.282394</td>\n",
       "      <td>0.07</td>\n",
       "      <td>0.298077</td>\n",
       "      <td>C7</td>\n",
       "      <td>6112</td>\n",
       "      <td>3</td>\n",
       "      <td>C2</td>\n",
       "      <td>M4</td>\n",
       "      <td>Diesel</td>\n",
       "      <td>...</td>\n",
       "      <td>Yes</td>\n",
       "      <td>Yes</td>\n",
       "      <td>Yes</td>\n",
       "      <td>Yes</td>\n",
       "      <td>Yes</td>\n",
       "      <td>No</td>\n",
       "      <td>Yes</td>\n",
       "      <td>Yes</td>\n",
       "      <td>3</td>\n",
       "      <td>0</td>\n",
       "    </tr>\n",
       "    <tr>\n",
       "      <th>9</th>\n",
       "      <td>ID00010</td>\n",
       "      <td>0.566255</td>\n",
       "      <td>0.04</td>\n",
       "      <td>0.442308</td>\n",
       "      <td>C9</td>\n",
       "      <td>17804</td>\n",
       "      <td>1</td>\n",
       "      <td>B2</td>\n",
       "      <td>M7</td>\n",
       "      <td>Petrol</td>\n",
       "      <td>...</td>\n",
       "      <td>Yes</td>\n",
       "      <td>Yes</td>\n",
       "      <td>Yes</td>\n",
       "      <td>Yes</td>\n",
       "      <td>Yes</td>\n",
       "      <td>Yes</td>\n",
       "      <td>Yes</td>\n",
       "      <td>Yes</td>\n",
       "      <td>0</td>\n",
       "      <td>0</td>\n",
       "    </tr>\n",
       "  </tbody>\n",
       "</table>\n",
       "<p>10 rows × 44 columns</p>\n",
       "</div>"
      ],
      "text/plain": [
       "  policy_id  policy_tenure  age_of_car  age_of_policyholder area_cluster  \\\n",
       "0   ID00001       0.515874        0.05             0.644231           C1   \n",
       "1   ID00002       0.672619        0.02             0.375000           C2   \n",
       "2   ID00003       0.841110        0.02             0.384615           C3   \n",
       "3   ID00004       0.900277        0.11             0.432692           C4   \n",
       "4   ID00005       0.596403        0.11             0.634615           C5   \n",
       "5   ID00006       1.018709        0.07             0.519231           C6   \n",
       "6   ID00007       0.097992        0.16             0.403846           C7   \n",
       "7   ID00008       0.509085        0.14             0.423077           C8   \n",
       "8   ID00009       0.282394        0.07             0.298077           C7   \n",
       "9   ID00010       0.566255        0.04             0.442308           C9   \n",
       "\n",
       "   population_density  make segment model fuel_type  ... is_brake_assist  \\\n",
       "0                4990     1       A    M1       CNG  ...              No   \n",
       "1               27003     1       A    M1       CNG  ...              No   \n",
       "2                4076     1       A    M1       CNG  ...              No   \n",
       "3               21622     1      C1    M2    Petrol  ...             Yes   \n",
       "4               34738     2       A    M3    Petrol  ...              No   \n",
       "5               13051     3      C2    M4    Diesel  ...             Yes   \n",
       "6                6112     4      B2    M5    Diesel  ...              No   \n",
       "7                8794     1      B2    M6    Petrol  ...             Yes   \n",
       "8                6112     3      C2    M4    Diesel  ...             Yes   \n",
       "9               17804     1      B2    M7    Petrol  ...             Yes   \n",
       "\n",
       "  is_power_door_locks is_central_locking  is_power_steering  \\\n",
       "0                  No                 No                Yes   \n",
       "1                  No                 No                Yes   \n",
       "2                  No                 No                Yes   \n",
       "3                 Yes                Yes                Yes   \n",
       "4                 Yes                Yes                Yes   \n",
       "5                 Yes                Yes                Yes   \n",
       "6                 Yes                Yes                Yes   \n",
       "7                 Yes                Yes                Yes   \n",
       "8                 Yes                Yes                Yes   \n",
       "9                 Yes                Yes                Yes   \n",
       "\n",
       "  is_driver_seat_height_adjustable is_day_night_rear_view_mirror is_ecw  \\\n",
       "0                               No                            No     No   \n",
       "1                               No                            No     No   \n",
       "2                               No                            No     No   \n",
       "3                              Yes                           Yes    Yes   \n",
       "4                               No                           Yes    Yes   \n",
       "5                              Yes                            No    Yes   \n",
       "6                               No                            No    Yes   \n",
       "7                              Yes                           Yes    Yes   \n",
       "8                              Yes                            No    Yes   \n",
       "9                              Yes                           Yes    Yes   \n",
       "\n",
       "  is_speed_alert ncap_rating is_claim  \n",
       "0            Yes           0        0  \n",
       "1            Yes           0        0  \n",
       "2            Yes           0        0  \n",
       "3            Yes           2        0  \n",
       "4            Yes           2        0  \n",
       "5            Yes           3        0  \n",
       "6            Yes           5        0  \n",
       "7            Yes           2        0  \n",
       "8            Yes           3        0  \n",
       "9            Yes           0        0  \n",
       "\n",
       "[10 rows x 44 columns]"
      ]
     },
     "execution_count": 8,
     "metadata": {},
     "output_type": "execute_result"
    }
   ],
   "source": [
    "data.head(10)"
   ]
  },
  {
   "cell_type": "markdown",
   "id": "e38682e1",
   "metadata": {},
   "source": [
    "### Data Summary:\n",
    "* **Total Rows:** 58,592\n",
    "* **Total Columns:** 44\n",
    "\n",
    "### Data Types Overview:\n",
    "* **float64:** 4 columns\n",
    "* **int64:** 12 columns\n",
    "* **object:** 28 columns (categorical)\n",
    "\n",
    "**Note**: \n",
    "* The values in  `age_of_car` and `age_of_policyholder` columns appear to be normalized.\n",
    "*  The `age_of_car` and `age_of_policyholder` columns, since they are normalized and to get the denormalized values we need more infomation about the technique used and the parameters used for normalization"
   ]
  },
  {
   "cell_type": "code",
   "execution_count": 17,
   "id": "ae015df5",
   "metadata": {},
   "outputs": [
    {
     "data": {
      "text/html": [
       "<div>\n",
       "<style scoped>\n",
       "    .dataframe tbody tr th:only-of-type {\n",
       "        vertical-align: middle;\n",
       "    }\n",
       "\n",
       "    .dataframe tbody tr th {\n",
       "        vertical-align: top;\n",
       "    }\n",
       "\n",
       "    .dataframe thead th {\n",
       "        text-align: right;\n",
       "    }\n",
       "</style>\n",
       "<table border=\"1\" class=\"dataframe\">\n",
       "  <thead>\n",
       "    <tr style=\"text-align: right;\">\n",
       "      <th></th>\n",
       "      <th>policy_tenure</th>\n",
       "      <th>age_of_car</th>\n",
       "      <th>age_of_policyholder</th>\n",
       "      <th>population_density</th>\n",
       "      <th>make</th>\n",
       "      <th>airbags</th>\n",
       "      <th>displacement</th>\n",
       "      <th>cylinder</th>\n",
       "      <th>gear_box</th>\n",
       "      <th>turning_radius</th>\n",
       "      <th>length</th>\n",
       "      <th>width</th>\n",
       "      <th>height</th>\n",
       "      <th>gross_weight</th>\n",
       "      <th>ncap_rating</th>\n",
       "      <th>is_claim</th>\n",
       "    </tr>\n",
       "  </thead>\n",
       "  <tbody>\n",
       "    <tr>\n",
       "      <th>count</th>\n",
       "      <td>58592.000000</td>\n",
       "      <td>58592.000000</td>\n",
       "      <td>58592.000000</td>\n",
       "      <td>58592.000000</td>\n",
       "      <td>58592.000000</td>\n",
       "      <td>58592.000000</td>\n",
       "      <td>58592.000000</td>\n",
       "      <td>58592.000000</td>\n",
       "      <td>58592.000000</td>\n",
       "      <td>58592.000000</td>\n",
       "      <td>58592.000000</td>\n",
       "      <td>58592.000000</td>\n",
       "      <td>58592.00000</td>\n",
       "      <td>58592.000000</td>\n",
       "      <td>58592.000000</td>\n",
       "      <td>58592.000000</td>\n",
       "    </tr>\n",
       "    <tr>\n",
       "      <th>mean</th>\n",
       "      <td>0.611246</td>\n",
       "      <td>0.069424</td>\n",
       "      <td>0.469420</td>\n",
       "      <td>18826.858667</td>\n",
       "      <td>1.763722</td>\n",
       "      <td>3.137066</td>\n",
       "      <td>1162.355851</td>\n",
       "      <td>3.626963</td>\n",
       "      <td>5.245443</td>\n",
       "      <td>4.852893</td>\n",
       "      <td>3850.476891</td>\n",
       "      <td>1672.233667</td>\n",
       "      <td>1553.33537</td>\n",
       "      <td>1385.276813</td>\n",
       "      <td>1.759950</td>\n",
       "      <td>0.063968</td>\n",
       "    </tr>\n",
       "    <tr>\n",
       "      <th>std</th>\n",
       "      <td>0.414156</td>\n",
       "      <td>0.056721</td>\n",
       "      <td>0.122886</td>\n",
       "      <td>17660.174792</td>\n",
       "      <td>1.136988</td>\n",
       "      <td>1.832641</td>\n",
       "      <td>266.304786</td>\n",
       "      <td>0.483616</td>\n",
       "      <td>0.430353</td>\n",
       "      <td>0.228061</td>\n",
       "      <td>311.457119</td>\n",
       "      <td>112.089135</td>\n",
       "      <td>79.62227</td>\n",
       "      <td>212.423085</td>\n",
       "      <td>1.389576</td>\n",
       "      <td>0.244698</td>\n",
       "    </tr>\n",
       "    <tr>\n",
       "      <th>min</th>\n",
       "      <td>0.002735</td>\n",
       "      <td>0.000000</td>\n",
       "      <td>0.288462</td>\n",
       "      <td>290.000000</td>\n",
       "      <td>1.000000</td>\n",
       "      <td>1.000000</td>\n",
       "      <td>796.000000</td>\n",
       "      <td>3.000000</td>\n",
       "      <td>5.000000</td>\n",
       "      <td>4.500000</td>\n",
       "      <td>3445.000000</td>\n",
       "      <td>1475.000000</td>\n",
       "      <td>1475.00000</td>\n",
       "      <td>1051.000000</td>\n",
       "      <td>0.000000</td>\n",
       "      <td>0.000000</td>\n",
       "    </tr>\n",
       "    <tr>\n",
       "      <th>25%</th>\n",
       "      <td>0.210250</td>\n",
       "      <td>0.020000</td>\n",
       "      <td>0.365385</td>\n",
       "      <td>6112.000000</td>\n",
       "      <td>1.000000</td>\n",
       "      <td>2.000000</td>\n",
       "      <td>796.000000</td>\n",
       "      <td>3.000000</td>\n",
       "      <td>5.000000</td>\n",
       "      <td>4.600000</td>\n",
       "      <td>3445.000000</td>\n",
       "      <td>1515.000000</td>\n",
       "      <td>1475.00000</td>\n",
       "      <td>1185.000000</td>\n",
       "      <td>0.000000</td>\n",
       "      <td>0.000000</td>\n",
       "    </tr>\n",
       "    <tr>\n",
       "      <th>50%</th>\n",
       "      <td>0.573792</td>\n",
       "      <td>0.060000</td>\n",
       "      <td>0.451923</td>\n",
       "      <td>8794.000000</td>\n",
       "      <td>1.000000</td>\n",
       "      <td>2.000000</td>\n",
       "      <td>1197.000000</td>\n",
       "      <td>4.000000</td>\n",
       "      <td>5.000000</td>\n",
       "      <td>4.800000</td>\n",
       "      <td>3845.000000</td>\n",
       "      <td>1735.000000</td>\n",
       "      <td>1530.00000</td>\n",
       "      <td>1335.000000</td>\n",
       "      <td>2.000000</td>\n",
       "      <td>0.000000</td>\n",
       "    </tr>\n",
       "    <tr>\n",
       "      <th>75%</th>\n",
       "      <td>1.039104</td>\n",
       "      <td>0.110000</td>\n",
       "      <td>0.548077</td>\n",
       "      <td>27003.000000</td>\n",
       "      <td>3.000000</td>\n",
       "      <td>6.000000</td>\n",
       "      <td>1493.000000</td>\n",
       "      <td>4.000000</td>\n",
       "      <td>5.000000</td>\n",
       "      <td>5.000000</td>\n",
       "      <td>3995.000000</td>\n",
       "      <td>1755.000000</td>\n",
       "      <td>1635.00000</td>\n",
       "      <td>1510.000000</td>\n",
       "      <td>3.000000</td>\n",
       "      <td>0.000000</td>\n",
       "    </tr>\n",
       "    <tr>\n",
       "      <th>max</th>\n",
       "      <td>1.396641</td>\n",
       "      <td>1.000000</td>\n",
       "      <td>1.000000</td>\n",
       "      <td>73430.000000</td>\n",
       "      <td>5.000000</td>\n",
       "      <td>6.000000</td>\n",
       "      <td>1498.000000</td>\n",
       "      <td>4.000000</td>\n",
       "      <td>6.000000</td>\n",
       "      <td>5.200000</td>\n",
       "      <td>4300.000000</td>\n",
       "      <td>1811.000000</td>\n",
       "      <td>1825.00000</td>\n",
       "      <td>1720.000000</td>\n",
       "      <td>5.000000</td>\n",
       "      <td>1.000000</td>\n",
       "    </tr>\n",
       "  </tbody>\n",
       "</table>\n",
       "</div>"
      ],
      "text/plain": [
       "       policy_tenure    age_of_car  age_of_policyholder  population_density  \\\n",
       "count   58592.000000  58592.000000         58592.000000        58592.000000   \n",
       "mean        0.611246      0.069424             0.469420        18826.858667   \n",
       "std         0.414156      0.056721             0.122886        17660.174792   \n",
       "min         0.002735      0.000000             0.288462          290.000000   \n",
       "25%         0.210250      0.020000             0.365385         6112.000000   \n",
       "50%         0.573792      0.060000             0.451923         8794.000000   \n",
       "75%         1.039104      0.110000             0.548077        27003.000000   \n",
       "max         1.396641      1.000000             1.000000        73430.000000   \n",
       "\n",
       "               make       airbags  displacement      cylinder      gear_box  \\\n",
       "count  58592.000000  58592.000000  58592.000000  58592.000000  58592.000000   \n",
       "mean       1.763722      3.137066   1162.355851      3.626963      5.245443   \n",
       "std        1.136988      1.832641    266.304786      0.483616      0.430353   \n",
       "min        1.000000      1.000000    796.000000      3.000000      5.000000   \n",
       "25%        1.000000      2.000000    796.000000      3.000000      5.000000   \n",
       "50%        1.000000      2.000000   1197.000000      4.000000      5.000000   \n",
       "75%        3.000000      6.000000   1493.000000      4.000000      5.000000   \n",
       "max        5.000000      6.000000   1498.000000      4.000000      6.000000   \n",
       "\n",
       "       turning_radius        length         width       height  gross_weight  \\\n",
       "count    58592.000000  58592.000000  58592.000000  58592.00000  58592.000000   \n",
       "mean         4.852893   3850.476891   1672.233667   1553.33537   1385.276813   \n",
       "std          0.228061    311.457119    112.089135     79.62227    212.423085   \n",
       "min          4.500000   3445.000000   1475.000000   1475.00000   1051.000000   \n",
       "25%          4.600000   3445.000000   1515.000000   1475.00000   1185.000000   \n",
       "50%          4.800000   3845.000000   1735.000000   1530.00000   1335.000000   \n",
       "75%          5.000000   3995.000000   1755.000000   1635.00000   1510.000000   \n",
       "max          5.200000   4300.000000   1811.000000   1825.00000   1720.000000   \n",
       "\n",
       "        ncap_rating      is_claim  \n",
       "count  58592.000000  58592.000000  \n",
       "mean       1.759950      0.063968  \n",
       "std        1.389576      0.244698  \n",
       "min        0.000000      0.000000  \n",
       "25%        0.000000      0.000000  \n",
       "50%        2.000000      0.000000  \n",
       "75%        3.000000      0.000000  \n",
       "max        5.000000      1.000000  "
      ]
     },
     "execution_count": 17,
     "metadata": {},
     "output_type": "execute_result"
    }
   ],
   "source": [
    "data.describe()"
   ]
  },
  {
   "cell_type": "markdown",
   "id": "8adf62cf",
   "metadata": {},
   "source": [
    "**Observations:**\n",
    "\n",
    "1. **`policy_tenure`**: The values range between 0.0027 and 1.3966, with a mean of 0.611, indicating some policies are quite new, while others are close to the maximum tenure.\n",
    "   \n",
    "2. **`age_of_car`**: Most values are closer to 0, which suggests a larger portion of cars are relatively new\n",
    "\n",
    "3. **`age_of_policyholder`**: The minimum value is 0.2885, and the 75th percentile is 0.54 with maximum as 1, showing that policyholders are mostly younger adults or middle-aged individuals.\n",
    "\n",
    "4. **`population_density`**: The data appears to be signifcantly skewed to the right for this column indicating most of the population density is less than 27,000.\n",
    "\n",
    "5. **`ncap_rating`**: Most cars have a rating of 1 to 3, with a few reaching the maximum value of 5, indicating a skewed distribution towards lower ratings.\n",
    "\n",
    "6. **`gross_weight`**: The range is between 1,051 kg and 1,720 kg, suggesting most cars fall within this weight range, with larger vehicles closer to the maximum.\n",
    "\n",
    "7. **`is_claim`**: A significant number of policies do not have claims, as indicated by a mean of 0.064, which reflects a highly **imbalanced class distribution**.\n",
    " "
   ]
  },
  {
   "cell_type": "code",
   "execution_count": 19,
   "id": "ec19efe6",
   "metadata": {},
   "outputs": [
    {
     "data": {
      "text/plain": [
       "1.6741777983981572"
      ]
     },
     "execution_count": 19,
     "metadata": {},
     "output_type": "execute_result"
    }
   ],
   "source": [
    "data['population_density'].skew()"
   ]
  },
  {
   "cell_type": "markdown",
   "id": "376692cf",
   "metadata": {},
   "source": [
    "### Check for null values"
   ]
  },
  {
   "cell_type": "code",
   "execution_count": 20,
   "id": "991a4915",
   "metadata": {},
   "outputs": [
    {
     "data": {
      "text/plain": [
       "policy_id                           0\n",
       "policy_tenure                       0\n",
       "age_of_car                          0\n",
       "age_of_policyholder                 0\n",
       "area_cluster                        0\n",
       "population_density                  0\n",
       "make                                0\n",
       "segment                             0\n",
       "model                               0\n",
       "fuel_type                           0\n",
       "max_torque                          0\n",
       "max_power                           0\n",
       "engine_type                         0\n",
       "airbags                             0\n",
       "is_esc                              0\n",
       "is_adjustable_steering              0\n",
       "is_tpms                             0\n",
       "is_parking_sensors                  0\n",
       "is_parking_camera                   0\n",
       "rear_brakes_type                    0\n",
       "displacement                        0\n",
       "cylinder                            0\n",
       "transmission_type                   0\n",
       "gear_box                            0\n",
       "steering_type                       0\n",
       "turning_radius                      0\n",
       "length                              0\n",
       "width                               0\n",
       "height                              0\n",
       "gross_weight                        0\n",
       "is_front_fog_lights                 0\n",
       "is_rear_window_wiper                0\n",
       "is_rear_window_washer               0\n",
       "is_rear_window_defogger             0\n",
       "is_brake_assist                     0\n",
       "is_power_door_locks                 0\n",
       "is_central_locking                  0\n",
       "is_power_steering                   0\n",
       "is_driver_seat_height_adjustable    0\n",
       "is_day_night_rear_view_mirror       0\n",
       "is_ecw                              0\n",
       "is_speed_alert                      0\n",
       "ncap_rating                         0\n",
       "is_claim                            0\n",
       "dtype: int64"
      ]
     },
     "execution_count": 20,
     "metadata": {},
     "output_type": "execute_result"
    }
   ],
   "source": [
    "data.isnull().sum()"
   ]
  },
  {
   "cell_type": "markdown",
   "id": "7a16f714",
   "metadata": {},
   "source": [
    "**Observation:**\n",
    "  * There are no null values present in any of the data columns"
   ]
  },
  {
   "cell_type": "markdown",
   "id": "91fed427",
   "metadata": {},
   "source": [
    "### Check for duplicated records"
   ]
  },
  {
   "cell_type": "code",
   "execution_count": 34,
   "id": "b96bf12d",
   "metadata": {},
   "outputs": [
    {
     "data": {
      "text/plain": [
       "0"
      ]
     },
     "execution_count": 34,
     "metadata": {},
     "output_type": "execute_result"
    }
   ],
   "source": [
    "data.duplicated().sum()"
   ]
  },
  {
   "cell_type": "markdown",
   "id": "001e3c22",
   "metadata": {},
   "source": [
    "**There are no duplicated records in the data set**"
   ]
  },
  {
   "cell_type": "markdown",
   "id": "252f627e",
   "metadata": {},
   "source": [
    "### Observing categorcial columns"
   ]
  },
  {
   "cell_type": "code",
   "execution_count": 151,
   "id": "85b52d98",
   "metadata": {},
   "outputs": [
    {
     "name": "stdout",
     "output_type": "stream",
     "text": [
      "********** area_cluster **********\n",
      "{'C11', 'C6', 'C8', 'C5', 'C13', 'C10', 'C18', 'C9', 'C14', 'C21', 'C22', 'C4', 'C7', 'C17', 'C16', 'C20', 'C3', 'C12', 'C1', 'C19', 'C15', 'C2'}\n",
      "\n",
      "********** segment **********\n",
      "{'A', 'C1', 'B1', 'Utility', 'C2', 'B2'}\n",
      "\n",
      "********** model **********\n",
      "{'M2', 'M8', 'M9', 'M10', 'M3', 'M11', 'M6', 'M5', 'M7', 'M1', 'M4'}\n",
      "\n",
      "********** fuel_type **********\n",
      "{'CNG', 'Diesel', 'Petrol'}\n",
      "\n",
      "********** max_torque **********\n",
      "{'113Nm@4400rpm', '91Nm@4250rpm', '85Nm@3000rpm', '250Nm@2750rpm', '200Nm@3000rpm', '170Nm@4000rpm', '60Nm@3500rpm', '200Nm@1750rpm', '82.1Nm@3400rpm'}\n",
      "\n",
      "********** max_power **********\n",
      "{'67.06bhp@5500rpm', '88.77bhp@4000rpm', '97.89bhp@3600rpm', '118.36bhp@5500rpm', '40.36bhp@6000rpm', '88.50bhp@6000rpm', '61.68bhp@6000rpm', '113.45bhp@4000rpm', '55.92bhp@5300rpm'}\n",
      "\n",
      "********** engine_type **********\n",
      "{'G12B', 'K10C', 'i-DTEC', '1.5 Turbocharged Revotron', '1.2 L K12N Dualjet', '1.2 L K Series Engine', '1.5 L U2 CRDi', 'F8D Petrol Engine', '1.5 Turbocharged Revotorq', 'K Series Dual jet', '1.0 SCe'}\n",
      "\n",
      "********** is_esc **********\n",
      "{'Yes', 'No'}\n",
      "\n",
      "********** is_adjustable_steering **********\n",
      "{'Yes', 'No'}\n",
      "\n",
      "********** is_tpms **********\n",
      "{'Yes', 'No'}\n",
      "\n",
      "********** is_parking_sensors **********\n",
      "{'Yes', 'No'}\n",
      "\n",
      "********** is_parking_camera **********\n",
      "{'Yes', 'No'}\n",
      "\n",
      "********** rear_brakes_type **********\n",
      "{'Disc', 'Drum'}\n",
      "\n",
      "********** transmission_type **********\n",
      "{'Automatic', 'Manual'}\n",
      "\n",
      "********** steering_type **********\n",
      "{'Power', 'Manual', 'Electric'}\n",
      "\n",
      "********** is_front_fog_lights **********\n",
      "{'Yes', 'No'}\n",
      "\n",
      "********** is_rear_window_wiper **********\n",
      "{'Yes', 'No'}\n",
      "\n",
      "********** is_rear_window_washer **********\n",
      "{'Yes', 'No'}\n",
      "\n",
      "********** is_rear_window_defogger **********\n",
      "{'Yes', 'No'}\n",
      "\n",
      "********** is_brake_assist **********\n",
      "{'Yes', 'No'}\n",
      "\n",
      "********** is_power_door_locks **********\n",
      "{'Yes', 'No'}\n",
      "\n",
      "********** is_central_locking **********\n",
      "{'Yes', 'No'}\n",
      "\n",
      "********** is_power_steering **********\n",
      "{'Yes', 'No'}\n",
      "\n",
      "********** is_driver_seat_height_adjustable **********\n",
      "{'Yes', 'No'}\n",
      "\n",
      "********** is_day_night_rear_view_mirror **********\n",
      "{'Yes', 'No'}\n",
      "\n",
      "********** is_ecw **********\n",
      "{'Yes', 'No'}\n",
      "\n",
      "********** is_speed_alert **********\n",
      "{'Yes', 'No'}\n",
      "\n"
     ]
    }
   ],
   "source": [
    "categorical_columns = data.select_dtypes(include='object')\n",
    "\n",
    "for i in categorical_columns.iloc[:,1:].columns:\n",
    "    print('*'*10 +' '+ i +' '+'*'*10 )\n",
    "    print(set(categorical_columns[i]))\n",
    "    print()\n",
    "    "
   ]
  },
  {
   "cell_type": "markdown",
   "id": "09b6d308",
   "metadata": {},
   "source": [
    "**Observation**:\n",
    "* There are no invalid values in any of the categorcial columns"
   ]
  },
  {
   "cell_type": "code",
   "execution_count": 152,
   "id": "dd7f01e2",
   "metadata": {},
   "outputs": [
    {
     "data": {
      "text/html": [
       "<div>\n",
       "<style scoped>\n",
       "    .dataframe tbody tr th:only-of-type {\n",
       "        vertical-align: middle;\n",
       "    }\n",
       "\n",
       "    .dataframe tbody tr th {\n",
       "        vertical-align: top;\n",
       "    }\n",
       "\n",
       "    .dataframe thead th {\n",
       "        text-align: right;\n",
       "    }\n",
       "</style>\n",
       "<table border=\"1\" class=\"dataframe\">\n",
       "  <thead>\n",
       "    <tr style=\"text-align: right;\">\n",
       "      <th></th>\n",
       "      <th>policy_tenure</th>\n",
       "      <th>age_of_car</th>\n",
       "      <th>age_of_policyholder</th>\n",
       "      <th>population_density</th>\n",
       "      <th>make</th>\n",
       "      <th>airbags</th>\n",
       "      <th>displacement</th>\n",
       "      <th>cylinder</th>\n",
       "      <th>gear_box</th>\n",
       "      <th>turning_radius</th>\n",
       "      <th>length</th>\n",
       "      <th>width</th>\n",
       "      <th>height</th>\n",
       "      <th>gross_weight</th>\n",
       "      <th>ncap_rating</th>\n",
       "      <th>is_claim</th>\n",
       "    </tr>\n",
       "  </thead>\n",
       "  <tbody>\n",
       "    <tr>\n",
       "      <th>0</th>\n",
       "      <td>0.515874</td>\n",
       "      <td>0.05</td>\n",
       "      <td>0.644231</td>\n",
       "      <td>4990</td>\n",
       "      <td>1</td>\n",
       "      <td>2</td>\n",
       "      <td>796</td>\n",
       "      <td>3</td>\n",
       "      <td>5</td>\n",
       "      <td>4.6</td>\n",
       "      <td>3445</td>\n",
       "      <td>1515</td>\n",
       "      <td>1475</td>\n",
       "      <td>1185</td>\n",
       "      <td>0</td>\n",
       "      <td>0</td>\n",
       "    </tr>\n",
       "    <tr>\n",
       "      <th>1</th>\n",
       "      <td>0.672619</td>\n",
       "      <td>0.02</td>\n",
       "      <td>0.375000</td>\n",
       "      <td>27003</td>\n",
       "      <td>1</td>\n",
       "      <td>2</td>\n",
       "      <td>796</td>\n",
       "      <td>3</td>\n",
       "      <td>5</td>\n",
       "      <td>4.6</td>\n",
       "      <td>3445</td>\n",
       "      <td>1515</td>\n",
       "      <td>1475</td>\n",
       "      <td>1185</td>\n",
       "      <td>0</td>\n",
       "      <td>0</td>\n",
       "    </tr>\n",
       "    <tr>\n",
       "      <th>2</th>\n",
       "      <td>0.841110</td>\n",
       "      <td>0.02</td>\n",
       "      <td>0.384615</td>\n",
       "      <td>4076</td>\n",
       "      <td>1</td>\n",
       "      <td>2</td>\n",
       "      <td>796</td>\n",
       "      <td>3</td>\n",
       "      <td>5</td>\n",
       "      <td>4.6</td>\n",
       "      <td>3445</td>\n",
       "      <td>1515</td>\n",
       "      <td>1475</td>\n",
       "      <td>1185</td>\n",
       "      <td>0</td>\n",
       "      <td>0</td>\n",
       "    </tr>\n",
       "    <tr>\n",
       "      <th>3</th>\n",
       "      <td>0.900277</td>\n",
       "      <td>0.11</td>\n",
       "      <td>0.432692</td>\n",
       "      <td>21622</td>\n",
       "      <td>1</td>\n",
       "      <td>2</td>\n",
       "      <td>1197</td>\n",
       "      <td>4</td>\n",
       "      <td>5</td>\n",
       "      <td>4.8</td>\n",
       "      <td>3995</td>\n",
       "      <td>1735</td>\n",
       "      <td>1515</td>\n",
       "      <td>1335</td>\n",
       "      <td>2</td>\n",
       "      <td>0</td>\n",
       "    </tr>\n",
       "    <tr>\n",
       "      <th>4</th>\n",
       "      <td>0.596403</td>\n",
       "      <td>0.11</td>\n",
       "      <td>0.634615</td>\n",
       "      <td>34738</td>\n",
       "      <td>2</td>\n",
       "      <td>2</td>\n",
       "      <td>999</td>\n",
       "      <td>3</td>\n",
       "      <td>5</td>\n",
       "      <td>5.0</td>\n",
       "      <td>3731</td>\n",
       "      <td>1579</td>\n",
       "      <td>1490</td>\n",
       "      <td>1155</td>\n",
       "      <td>2</td>\n",
       "      <td>0</td>\n",
       "    </tr>\n",
       "    <tr>\n",
       "      <th>...</th>\n",
       "      <td>...</td>\n",
       "      <td>...</td>\n",
       "      <td>...</td>\n",
       "      <td>...</td>\n",
       "      <td>...</td>\n",
       "      <td>...</td>\n",
       "      <td>...</td>\n",
       "      <td>...</td>\n",
       "      <td>...</td>\n",
       "      <td>...</td>\n",
       "      <td>...</td>\n",
       "      <td>...</td>\n",
       "      <td>...</td>\n",
       "      <td>...</td>\n",
       "      <td>...</td>\n",
       "      <td>...</td>\n",
       "    </tr>\n",
       "    <tr>\n",
       "      <th>58587</th>\n",
       "      <td>0.355089</td>\n",
       "      <td>0.13</td>\n",
       "      <td>0.644231</td>\n",
       "      <td>8794</td>\n",
       "      <td>2</td>\n",
       "      <td>2</td>\n",
       "      <td>999</td>\n",
       "      <td>3</td>\n",
       "      <td>5</td>\n",
       "      <td>5.0</td>\n",
       "      <td>3731</td>\n",
       "      <td>1579</td>\n",
       "      <td>1490</td>\n",
       "      <td>1155</td>\n",
       "      <td>2</td>\n",
       "      <td>0</td>\n",
       "    </tr>\n",
       "    <tr>\n",
       "      <th>58588</th>\n",
       "      <td>1.199642</td>\n",
       "      <td>0.02</td>\n",
       "      <td>0.519231</td>\n",
       "      <td>7788</td>\n",
       "      <td>1</td>\n",
       "      <td>2</td>\n",
       "      <td>796</td>\n",
       "      <td>3</td>\n",
       "      <td>5</td>\n",
       "      <td>4.6</td>\n",
       "      <td>3445</td>\n",
       "      <td>1515</td>\n",
       "      <td>1475</td>\n",
       "      <td>1185</td>\n",
       "      <td>0</td>\n",
       "      <td>0</td>\n",
       "    </tr>\n",
       "    <tr>\n",
       "      <th>58589</th>\n",
       "      <td>1.162273</td>\n",
       "      <td>0.05</td>\n",
       "      <td>0.451923</td>\n",
       "      <td>34738</td>\n",
       "      <td>1</td>\n",
       "      <td>2</td>\n",
       "      <td>796</td>\n",
       "      <td>3</td>\n",
       "      <td>5</td>\n",
       "      <td>4.6</td>\n",
       "      <td>3445</td>\n",
       "      <td>1515</td>\n",
       "      <td>1475</td>\n",
       "      <td>1185</td>\n",
       "      <td>0</td>\n",
       "      <td>0</td>\n",
       "    </tr>\n",
       "    <tr>\n",
       "      <th>58590</th>\n",
       "      <td>1.236307</td>\n",
       "      <td>0.14</td>\n",
       "      <td>0.557692</td>\n",
       "      <td>8794</td>\n",
       "      <td>1</td>\n",
       "      <td>2</td>\n",
       "      <td>1197</td>\n",
       "      <td>4</td>\n",
       "      <td>5</td>\n",
       "      <td>4.8</td>\n",
       "      <td>3845</td>\n",
       "      <td>1735</td>\n",
       "      <td>1530</td>\n",
       "      <td>1335</td>\n",
       "      <td>2</td>\n",
       "      <td>0</td>\n",
       "    </tr>\n",
       "    <tr>\n",
       "      <th>58591</th>\n",
       "      <td>0.124429</td>\n",
       "      <td>0.02</td>\n",
       "      <td>0.442308</td>\n",
       "      <td>8794</td>\n",
       "      <td>3</td>\n",
       "      <td>6</td>\n",
       "      <td>1493</td>\n",
       "      <td>4</td>\n",
       "      <td>6</td>\n",
       "      <td>5.2</td>\n",
       "      <td>4300</td>\n",
       "      <td>1790</td>\n",
       "      <td>1635</td>\n",
       "      <td>1720</td>\n",
       "      <td>3</td>\n",
       "      <td>0</td>\n",
       "    </tr>\n",
       "  </tbody>\n",
       "</table>\n",
       "<p>58592 rows × 16 columns</p>\n",
       "</div>"
      ],
      "text/plain": [
       "       policy_tenure  age_of_car  age_of_policyholder  population_density  \\\n",
       "0           0.515874        0.05             0.644231                4990   \n",
       "1           0.672619        0.02             0.375000               27003   \n",
       "2           0.841110        0.02             0.384615                4076   \n",
       "3           0.900277        0.11             0.432692               21622   \n",
       "4           0.596403        0.11             0.634615               34738   \n",
       "...              ...         ...                  ...                 ...   \n",
       "58587       0.355089        0.13             0.644231                8794   \n",
       "58588       1.199642        0.02             0.519231                7788   \n",
       "58589       1.162273        0.05             0.451923               34738   \n",
       "58590       1.236307        0.14             0.557692                8794   \n",
       "58591       0.124429        0.02             0.442308                8794   \n",
       "\n",
       "       make  airbags  displacement  cylinder  gear_box  turning_radius  \\\n",
       "0         1        2           796         3         5             4.6   \n",
       "1         1        2           796         3         5             4.6   \n",
       "2         1        2           796         3         5             4.6   \n",
       "3         1        2          1197         4         5             4.8   \n",
       "4         2        2           999         3         5             5.0   \n",
       "...     ...      ...           ...       ...       ...             ...   \n",
       "58587     2        2           999         3         5             5.0   \n",
       "58588     1        2           796         3         5             4.6   \n",
       "58589     1        2           796         3         5             4.6   \n",
       "58590     1        2          1197         4         5             4.8   \n",
       "58591     3        6          1493         4         6             5.2   \n",
       "\n",
       "       length  width  height  gross_weight  ncap_rating  is_claim  \n",
       "0        3445   1515    1475          1185            0         0  \n",
       "1        3445   1515    1475          1185            0         0  \n",
       "2        3445   1515    1475          1185            0         0  \n",
       "3        3995   1735    1515          1335            2         0  \n",
       "4        3731   1579    1490          1155            2         0  \n",
       "...       ...    ...     ...           ...          ...       ...  \n",
       "58587    3731   1579    1490          1155            2         0  \n",
       "58588    3445   1515    1475          1185            0         0  \n",
       "58589    3445   1515    1475          1185            0         0  \n",
       "58590    3845   1735    1530          1335            2         0  \n",
       "58591    4300   1790    1635          1720            3         0  \n",
       "\n",
       "[58592 rows x 16 columns]"
      ]
     },
     "execution_count": 152,
     "metadata": {},
     "output_type": "execute_result"
    }
   ],
   "source": [
    "numerical_columns = data.select_dtypes(exclude='object')\n",
    "numerical_columns"
   ]
  },
  {
   "cell_type": "code",
   "execution_count": 161,
   "id": "7b2dd6f3",
   "metadata": {},
   "outputs": [
    {
     "name": "stdout",
     "output_type": "stream",
     "text": [
      "********** make **********\n",
      "{1, 2, 3, 4, 5}\n",
      "\n",
      "********** airbags **********\n",
      "{1, 2, 6}\n",
      "\n",
      "********** displacement **********\n",
      "{998, 999, 1196, 1197, 1199, 1493, 1497, 1498, 796}\n",
      "\n",
      "********** cylinder **********\n",
      "{3, 4}\n",
      "\n",
      "********** gear_box **********\n",
      "{5, 6}\n",
      "\n",
      "********** turning_radius **********\n",
      "{4.85, 5.0, 4.6, 4.8, 5.2, 4.7, 4.9, 4.5, 5.1}\n",
      "\n",
      "********** length **********\n",
      "{3845, 3655, 4300, 3731, 3445, 3990, 3993, 3675, 3995}\n",
      "\n",
      "********** width **********\n",
      "{1475, 1735, 1579, 1515, 1745, 1811, 1620, 1755, 1790, 1695}\n",
      "\n",
      "********** height **********\n",
      "{1825, 1635, 1475, 1606, 1515, 1675, 1490, 1523, 1530, 1500, 1501}\n",
      "\n",
      "********** gross_weight **********\n",
      "{1660, 1185, 1410, 1155, 1510, 1490, 1335, 1720, 1051, 1340}\n",
      "\n",
      "********** ncap_rating **********\n",
      "{0, 2, 3, 4, 5}\n",
      "\n",
      "********** is_claim **********\n",
      "{0, 1}\n",
      "\n"
     ]
    }
   ],
   "source": [
    "for i in numerical_columns.iloc[:,4:].columns:\n",
    "    print('*'*10 +' '+ i +' '+'*'*10 )\n",
    "    print(set(numerical_columns[i]))\n",
    "    print()   "
   ]
  },
  {
   "cell_type": "markdown",
   "id": "fc945af2",
   "metadata": {},
   "source": [
    "**Observation:**\n",
    "\n",
    "**Categorical Nature of Some Numerical Columns**: \n",
    "\n",
    "* Several numerical columns, such as `airbags`, `displacement`, `cylinder`, `gear_box`, `turning_radius`, `length`, `width`, `height`, `gross_weight`, `ncap_rating`, and `is_claim`, contain discrete, limited values.\n",
    "* They categorize the data into specific groups rather than representing continuous ranges. \n",
    "* These columns should be treated as categorical variables for further analysis and modeling, even though they appear numerically.\n",
    "    "
   ]
  },
  {
   "cell_type": "markdown",
   "id": "07ef2d8e",
   "metadata": {},
   "source": [
    "### Check for outiers in continuous columns"
   ]
  },
  {
   "cell_type": "code",
   "execution_count": 6,
   "id": "5ef158d7",
   "metadata": {},
   "outputs": [
    {
     "data": {
      "text/plain": [
       "['policy_tenure', 'age_of_car', 'age_of_policyholder', 'population_density']"
      ]
     },
     "execution_count": 6,
     "metadata": {},
     "output_type": "execute_result"
    }
   ],
   "source": [
    "continuous_cols = list(numerical_columns.iloc[:,:4].columns)\n",
    "continuous_cols"
   ]
  },
  {
   "cell_type": "code",
   "execution_count": 66,
   "id": "e06aefd9",
   "metadata": {},
   "outputs": [
    {
     "data": {
      "image/png": "[encoded data removed]",
      "text/plain": [
       "<Figure size 1200x400 with 4 Axes>"
      ]
     },
     "metadata": {},
     "output_type": "display_data"
    }
   ],
   "source": [
    "fig, ax = plt.subplots(1,4, figsize = (12,4))\n",
    "\n",
    "for i, col in enumerate(continuous_cols):\n",
    "    sns.boxplot(data= data[col], ax = ax[i])\n",
    "    ax[i].set_title(f'{col}')\n",
    "    ax[i].set_ylabel(\"\")\n",
    "    \n",
    "fig.tight_layout()"
   ]
  },
  {
   "cell_type": "code",
   "execution_count": 89,
   "id": "53620a6e",
   "metadata": {},
   "outputs": [
    {
     "data": {
      "text/plain": [
       "is_claim\n",
       "0    87\n",
       "1     5\n",
       "Name: count, dtype: int64"
      ]
     },
     "execution_count": 89,
     "metadata": {},
     "output_type": "execute_result"
    }
   ],
   "source": [
    "data[(data['age_of_car']> 0.3)][['age_of_car','is_claim']].value_counts(subset='is_claim')"
   ]
  },
  {
   "cell_type": "code",
   "execution_count": 90,
   "id": "c0f19e84",
   "metadata": {},
   "outputs": [
    {
     "data": {
      "text/plain": [
       "is_claim\n",
       "0    319\n",
       "1     46\n",
       "Name: count, dtype: int64"
      ]
     },
     "execution_count": 90,
     "metadata": {},
     "output_type": "execute_result"
    }
   ],
   "source": [
    "data[data['age_of_policyholder']> 0.8].value_counts(subset='is_claim')"
   ]
  },
  {
   "cell_type": "code",
   "execution_count": 83,
   "id": "57f2ae78",
   "metadata": {},
   "outputs": [
    {
     "data": {
      "text/plain": [
       "is_claim\n",
       "0    3480\n",
       "1     167\n",
       "Name: count, dtype: int64"
      ]
     },
     "execution_count": 83,
     "metadata": {},
     "output_type": "execute_result"
    }
   ],
   "source": [
    "data[data['population_density']> 60000].value_counts(subset='is_claim')"
   ]
  },
  {
   "cell_type": "markdown",
   "id": "cd686f74",
   "metadata": {},
   "source": [
    "**Observation on Outliers:**\n",
    "* There are certain observations with outlier values in features like `age_of_car`, `age_of_policyholder`, and `population_density`, especially for class 1 (claim) data, where the frequency of claims is relatively low.\n",
    "* These outlier values might potentially represent rare but significant instances of claims, particularly in the minority class (class 1).\n",
    "* Removing outliers might lead to the loss of important edge cases and further increase the class imbalance.\n",
    "* Given the imbalanced nature of the dataset, it may be more appropriate to handle outliers with robust models."
   ]
  },
  {
   "cell_type": "markdown",
   "id": "2e7a2867",
   "metadata": {},
   "source": [
    "## Exploratory Data Analysis"
   ]
  },
  {
   "cell_type": "markdown",
   "id": "2b8ceed9",
   "metadata": {},
   "source": [
    "### 1. Understanding the Target column"
   ]
  },
  {
   "cell_type": "code",
   "execution_count": 40,
   "id": "1b0b4911",
   "metadata": {},
   "outputs": [
    {
     "data": {
      "text/plain": [
       "is_claim\n",
       "0    0.936032\n",
       "1    0.063968\n",
       "Name: proportion, dtype: float64"
      ]
     },
     "execution_count": 40,
     "metadata": {},
     "output_type": "execute_result"
    }
   ],
   "source": [
    "data['is_claim'].value_counts(normalize = True)"
   ]
  },
  {
   "cell_type": "code",
   "execution_count": 74,
   "id": "205529b7",
   "metadata": {},
   "outputs": [
    {
     "data": {
      "image/png": "[encoded data removed]",
      "text/plain": [
       "<Figure size 1000x400 with 2 Axes>"
      ]
     },
     "metadata": {},
     "output_type": "display_data"
    }
   ],
   "source": [
    "fig, ax = plt.subplots(1, 2, figsize=(10, 4)) \n",
    "\n",
    "ax1 = sns.barplot(x=[0, 1], y=data['is_claim'].value_counts(), ax=ax[0], palette='Set2')\n",
    "ax[0].set_title('Barplot of Claims')\n",
    "ax[0].set_xticks([0, 1])\n",
    "ax[0].set_xlabel('Is Claim')\n",
    "ax[0].set_ylabel('Count')\n",
    "ax[0].yaxis.set_ticks([])\n",
    "\n",
    "for p in ax1.patches:\n",
    "    ax1.annotate(f'{int(p.get_height())}',\n",
    "                 (p.get_x() + p.get_width() / 2, p.get_height()),\n",
    "                 ha='center', va='center', xytext=(0, 5), textcoords='offset points')\n",
    "\n",
    "ax[1].pie(data['is_claim'].value_counts(), autopct=\"%1.1f%%\", colors=sns.color_palette('Set2', 2))\n",
    "ax[1].set_title('Pie Chart of Claims')\n",
    "\n",
    "plt.tight_layout()\n",
    "plt.show()"
   ]
  },
  {
   "cell_type": "markdown",
   "id": "244fe60f",
   "metadata": {},
   "source": [
    "**Observation:**\n",
    "* The target variable **`is_claim`** exhibits a class imbalance, with approximately 94% of the data representing class 0 (no claim) and only 6% representing class 1 (claim).\n",
    "* This imbalance may lead to biased model predictions, favoring the majority class (class 0) and reducing the model's ability to correctly predict class 1 (claims)."
   ]
  },
  {
   "cell_type": "markdown",
   "id": "5256ff8a",
   "metadata": {},
   "source": [
    "### 2. Understanding Continuous variables"
   ]
  },
  {
   "cell_type": "code",
   "execution_count": 75,
   "id": "fd197a5b",
   "metadata": {},
   "outputs": [
    {
     "data": {
      "text/plain": [
       "['policy_tenure', 'age_of_car', 'age_of_policyholder', 'population_density']"
      ]
     },
     "execution_count": 75,
     "metadata": {},
     "output_type": "execute_result"
    }
   ],
   "source": [
    "continuous_cols"
   ]
  },
  {
   "cell_type": "code",
   "execution_count": 115,
   "id": "fbe4ff0e",
   "metadata": {},
   "outputs": [
    {
     "data": {
      "image/png": "[encoded data removed]",
      "text/plain": [
       "<Figure size 1200x600 with 4 Axes>"
      ]
     },
     "metadata": {},
     "output_type": "display_data"
    }
   ],
   "source": [
    "fig, ax = plt.subplots(2,2, figsize = (12,6))\n",
    "\n",
    "sns.histplot(data['policy_tenure'],kde=True, ax = ax[0,0], bins=13,)\n",
    "ax[0,0].set_title('Distribution of Policy Tenure', fontsize = 12)\n",
    "ax[0,0].lines[0].set_color('crimson')\n",
    "\n",
    "sns.histplot(data['age_of_car'],kde=True, ax = ax[0,1], bins = 10)\n",
    "ax[0,1].set_title('Distribution of Age of car', fontsize = 12)\n",
    "ax[0,1].lines[0].set_color('crimson')\n",
    "\n",
    "\n",
    "sns.histplot(data['age_of_policyholder'],kde=True, ax = ax[1,0],bins = 10)\n",
    "ax[1,0].set_title('Distribution of Age of Policy Holder', fontsize = 12)\n",
    "ax[1,0].lines[0].set_color('crimson')\n",
    "\n",
    "sns.histplot(data['population_density'],kde=True, ax = ax[1,1],bins = 10)\n",
    "ax[1,1].set_title('Distribution of Population density', fontsize = 12)\n",
    "ax[1,1].lines[0].set_color('crimson')\n",
    "\n",
    "plt.tight_layout()"
   ]
  },
  {
   "cell_type": "markdown",
   "id": "1a9e44c5",
   "metadata": {},
   "source": [
    "**Observations:**\n",
    "\n",
    "1. **`policy_tenure`**: There is significant variation in the distribution. It shows a high frequency at the beginning, indicating newer or shorter tenures, and another peak is observed around the 1 to 1.2 range.\n",
    "2. **`age_of_car`**: The column is highly right-skewed, indicating that most policies are purchased when the cars are relatively new. \n",
    "\n",
    "3. **`age_of_policyholder`**: This column is also right-skewed, suggesting that the majority of policies are taken by younger or middle-aged individuals, with fewer policies held by older individuals.\n",
    "\n",
    "4. **`population_density`**: The majority of policies originate from regions with a population density around 10,000, where it peaks. A slight increase is noted between 25,000 and 35,000, while there are almost no policies between 40,000 and 60,000. A small uptick is observed at 70,000.\n"
   ]
  },
  {
   "cell_type": "markdown",
   "id": "01cf2367",
   "metadata": {},
   "source": [
    "### How do these continuous features differ accross the is_claim classes?"
   ]
  },
  {
   "cell_type": "code",
   "execution_count": 174,
   "id": "0c38a009",
   "metadata": {},
   "outputs": [
    {
     "data": {
      "image/png": "[encoded data removed]",
      "text/plain": [
       "<Figure size 1500x1200 with 4 Axes>"
      ]
     },
     "metadata": {},
     "output_type": "display_data"
    }
   ],
   "source": [
    "plt.figure(figsize=(15, 12))\n",
    "\n",
    "# Loop through all continuous columns and plot\n",
    "for i, col in enumerate(continuous_cols, 1):\n",
    "    plt.subplot(2, 2, i)\n",
    "    sns.boxplot(data=data, x='is_claim', y=col, palette=\"Set2\")\n",
    "    plt.title(f\"Boxplot of {col} by Claim Status\")\n",
    "\n",
    "# Adjust layout for better view\n",
    "plt.tight_layout()\n",
    "plt.show()"
   ]
  },
  {
   "cell_type": "markdown",
   "id": "286117d8",
   "metadata": {},
   "source": [
    "**Observation:**\n",
    "* **Policy tenure** shows a small difference in distribution between the two classes. For claims (1), the policy tenure starts at around 0.4, whereas for non-claims (0), it starts at approximately 0.2. This suggests that, although the overall distribution for continuous variables such as `age_of_car`, `age_of_policyholder`, and `population_density` is quite similar for both classes, there might be a subtle trend where longer policy tenures correlate with a higher likelihood of claims.\n",
    "* The similarity in distributions of most continuous features suggests that there may not be strong determining power in these features for predicting `is_claim` based solely on the distributions.\n",
    "\n",
    "\n",
    "Due to the non-normal distributions of the continuous variables (such as `policy_tenure`, `age_of_car`, and `age_of_policyholder`), using traditional correlation measures (like Pearson or Point-Biserial) may be misleading. These tests assume normality, and applying them to skewed or non-normally distributed data could lead to inaccurate conclusions about the relationships between the target variable (is_claim) and continuous features."
   ]
  },
  {
   "cell_type": "code",
   "execution_count": null,
   "id": "bd4c7684",
   "metadata": {},
   "outputs": [],
   "source": []
  },
  {
   "cell_type": "code",
   "execution_count": null,
   "id": "817732d1",
   "metadata": {},
   "outputs": [],
   "source": []
  },
  {
   "cell_type": "code",
   "execution_count": null,
   "id": "bfb47fbf",
   "metadata": {},
   "outputs": [],
   "source": []
  },
  {
   "cell_type": "code",
   "execution_count": null,
   "id": "3077722a",
   "metadata": {},
   "outputs": [],
   "source": []
  },
  {
   "cell_type": "code",
   "execution_count": null,
   "id": "1f9bb2b3",
   "metadata": {},
   "outputs": [],
   "source": []
  },
  {
   "cell_type": "code",
   "execution_count": null,
   "id": "b89fc5e0",
   "metadata": {},
   "outputs": [],
   "source": []
  },
  {
   "cell_type": "code",
   "execution_count": null,
   "id": "e0c2c24c",
   "metadata": {},
   "outputs": [],
   "source": []
  },
  {
   "cell_type": "code",
   "execution_count": null,
   "id": "5a6c5e65",
   "metadata": {},
   "outputs": [],
   "source": []
  },
  {
   "cell_type": "code",
   "execution_count": 153,
   "id": "13650399",
   "metadata": {},
   "outputs": [],
   "source": [
    "category_column_names = list(categorical_columns.iloc[:,1:].columns) #Removing policyID"
   ]
  },
  {
   "cell_type": "code",
   "execution_count": 154,
   "id": "6a0b5986",
   "metadata": {},
   "outputs": [
    {
     "name": "stdout",
     "output_type": "stream",
     "text": [
      "['area_cluster', 'segment', 'model', 'fuel_type', 'max_torque', 'max_power', 'engine_type', 'is_esc', 'is_adjustable_steering', 'is_tpms', 'is_parking_sensors', 'is_parking_camera', 'rear_brakes_type', 'transmission_type', 'steering_type', 'is_front_fog_lights', 'is_rear_window_wiper', 'is_rear_window_washer', 'is_rear_window_defogger', 'is_brake_assist', 'is_power_door_locks', 'is_central_locking', 'is_power_steering', 'is_driver_seat_height_adjustable', 'is_day_night_rear_view_mirror', 'is_ecw', 'is_speed_alert', 'make', 'airbags', 'displacement', 'cylinder', 'gear_box', 'turning_radius', 'length', 'width', 'height', 'gross_weight', 'ncap_rating', 'is_claim']\n"
     ]
    }
   ],
   "source": [
    "category_column_names.extend(list(numerical_columns.iloc[:,4:].columns)) #Seperating continuous and discrete columns\n",
    "print(category_column_names)"
   ]
  },
  {
   "cell_type": "code",
   "execution_count": 155,
   "id": "c6cc9d6e",
   "metadata": {},
   "outputs": [
    {
     "data": {
      "text/plain": [
       "39"
      ]
     },
     "execution_count": 155,
     "metadata": {},
     "output_type": "execute_result"
    }
   ],
   "source": [
    "len(category_column_names)"
   ]
  },
  {
   "cell_type": "markdown",
   "id": "990c1eff",
   "metadata": {},
   "source": [
    "### 3. Understanding Categorical Variables"
   ]
  },
  {
   "cell_type": "code",
   "execution_count": 159,
   "id": "c0962b9a",
   "metadata": {},
   "outputs": [
    {
     "data": {
      "text/plain": [
       "Index(['policy_id', 'area_cluster', 'segment', 'model', 'fuel_type',\n",
       "       'max_torque', 'max_power', 'engine_type', 'is_esc',\n",
       "       'is_adjustable_steering', 'is_tpms', 'is_parking_sensors',\n",
       "       'is_parking_camera', 'rear_brakes_type', 'transmission_type',\n",
       "       'steering_type', 'is_front_fog_lights', 'is_rear_window_wiper',\n",
       "       'is_rear_window_washer', 'is_rear_window_defogger', 'is_brake_assist',\n",
       "       'is_power_door_locks', 'is_central_locking', 'is_power_steering',\n",
       "       'is_driver_seat_height_adjustable', 'is_day_night_rear_view_mirror',\n",
       "       'is_ecw', 'is_speed_alert'],\n",
       "      dtype='object')"
      ]
     },
     "execution_count": 159,
     "metadata": {},
     "output_type": "execute_result"
    }
   ],
   "source": [
    "categorical_columns.columns"
   ]
  },
  {
   "cell_type": "code",
   "execution_count": 162,
   "id": "c19122c6",
   "metadata": {},
   "outputs": [
    {
     "data": {
      "text/plain": [
       "Index(['make', 'airbags', 'displacement', 'cylinder', 'gear_box',\n",
       "       'turning_radius', 'length', 'width', 'height', 'gross_weight',\n",
       "       'ncap_rating'],\n",
       "      dtype='object')"
      ]
     },
     "execution_count": 162,
     "metadata": {},
     "output_type": "execute_result"
    }
   ],
   "source": [
    "numerical_columns.iloc[:,4:-1].columns"
   ]
  },
  {
   "cell_type": "code",
   "execution_count": null,
   "id": "9dd3af49",
   "metadata": {},
   "outputs": [],
   "source": [
    "plt.figure(figsize=(20, 30))\n",
    "\n",
    "# Loop through all categorical columns and plot\n",
    "for i, col in enumerate(category_column_names, 1):\n",
    "    plt.subplot(len(category_column_names)//3 + 1, 3, i)\n",
    "    sns.countplot(data=data, x=col, palette=\"Set2\")\n",
    "    plt.xticks(rotation=45)\n",
    "    plt.title(f\"Count Plot for {col}\")\n",
    "    \n",
    "# Adjust layout for better view\n",
    "plt.tight_layout()\n",
    "plt.show()"
   ]
  },
  {
   "cell_type": "code",
   "execution_count": null,
   "id": "e2d8c9e2",
   "metadata": {},
   "outputs": [],
   "source": [
    "fig, axes = plt.subplots(nrows=8, ncols=5, figsize=(20, 25))\n",
    "axes = axes.flatten()  # Flatten axes for easier indexing\n",
    "\n",
    "# Iterate over categorical variables and plot\n",
    "for i, column in enumerate(category_column_names):\n",
    "    sns.countplot(data=data, x=column, ax=axes[i])\n",
    "    axes[i].set_title(f'Count of {column}')\n",
    "    axes[i].tick_params(axis='x', rotation=45)  # Rotate x labels for readability\n",
    "\n",
    "# Adjust layout\n",
    "plt.tight_layout()\n",
    "plt.show()"
   ]
  },
  {
   "cell_type": "markdown",
   "id": "63b3ac0b",
   "metadata": {},
   "source": [
    "### Understanding factors that influence the claim"
   ]
  },
  {
   "cell_type": "code",
   "execution_count": null,
   "id": "196cf3ce",
   "metadata": {},
   "outputs": [],
   "source": []
  },
  {
   "cell_type": "code",
   "execution_count": null,
   "id": "fdaf9eab",
   "metadata": {},
   "outputs": [],
   "source": []
  }
 ],
 "metadata": {
  "kernelspec": {
   "display_name": "Python 3 (ipykernel)",
   "language": "python",
   "name": "python3"
  },
  "language_info": {
   "codemirror_mode": {
    "name": "ipython",
    "version": 3
   },
   "file_extension": ".py",
   "mimetype": "text/x-python",
   "name": "python",
   "nbconvert_exporter": "python",
   "pygments_lexer": "ipython3",
   "version": "3.11.7"
  }
 },
 "nbformat": 4,
 "nbformat_minor": 5
}
